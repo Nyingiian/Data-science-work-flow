{
 "cells": [
  {
   "cell_type": "markdown",
   "id": "71f9e4bb",
   "metadata": {},
   "source": [
    "# Project - Dallas Shootings"
   ]
  },
  {
   "cell_type": "markdown",
   "id": "1ffe56d1",
   "metadata": {},
   "source": [
    "![Data Science Workflow](img/ds-workflow.png)"
   ]
  },
  {
   "cell_type": "markdown",
   "id": "1d735137",
   "metadata": {},
   "source": [
    "## Goal of Project\n",
    "- A newspaper want a visualization of the shootings in Dallas with focus on subjects\n",
    "- We will read data from from database and join into broader datasets\n",
    "- We will explore ideas to visualize it and create a map with the shootings"
   ]
  },
  {
   "cell_type": "markdown",
   "id": "1f4f3e13",
   "metadata": {},
   "source": [
    "## Step 1: Acquire\n",
    "- Explore problem\n",
    "- Identify data\n",
    "- Import data"
   ]
  },
  {
   "cell_type": "markdown",
   "id": "e6a9cf7d",
   "metadata": {},
   "source": [
    "### Step 1.a: Import libraries\n",
    "- Execute the cell below (SHIFT + ENTER)"
   ]
  },
  {
   "cell_type": "code",
   "execution_count": 1,
   "id": "629872f9",
   "metadata": {},
   "outputs": [],
   "source": [
    "import sqlite3\n",
    "import pandas as pd\n",
    "import matplotlib.pyplot as plt\n",
    "%matplotlib inline"
   ]
  },
  {
   "cell_type": "markdown",
   "id": "647f1fb4",
   "metadata": {},
   "source": [
    "### Step 1.b: Connect to SQLite database\n",
    "- Use `sqlite3.connect(<filename>)` to connect to the database `files/dallas-ois.sqlite`"
   ]
  },
  {
   "cell_type": "code",
   "execution_count": 6,
   "id": "8c09a576",
   "metadata": {},
   "outputs": [],
   "source": [
    "conn = sqlite3.connect(\"files/dallas-ois.sqlite\")"
   ]
  },
  {
   "cell_type": "code",
   "execution_count": null,
   "id": "d91a368e",
   "metadata": {},
   "outputs": [],
   "source": []
  },
  {
   "cell_type": "markdown",
   "id": "79daef77",
   "metadata": {},
   "source": [
    "### Step 1. c: Read data into DataFrames\n",
    "- The database consists of 3 tables: `incident`, `officers`, `subjects`\n",
    "- Read the data from each table into a DataFrame.\n",
    "- HINT: Use `pandas` `read_sql(sql_stmt, conn)`, which takes the SQL statement (`sql_stmt`) and the data base connection `conn` from previous step.\n",
    "- HINT: The structure of the SQL statement is as follows.\n",
    "```SQL \n",
    "SELECT * FROM table\n",
    "```"
   ]
  },
  {
   "cell_type": "code",
   "execution_count": 10,
   "id": "f65fd3dd",
   "metadata": {},
   "outputs": [],
   "source": [
    "incident = pd.read_sql('SELECT * FROM incidents',conn)\n",
    "officers = pd.read_sql('SELECT * FROM officers',conn)\n",
    "subjects = pd.read_sql('SELECT * FROM subjects',conn)"
   ]
  },
  {
   "cell_type": "code",
   "execution_count": null,
   "id": "170197ca",
   "metadata": {},
   "outputs": [],
   "source": []
  },
  {
   "cell_type": "markdown",
   "id": "f8bc6825",
   "metadata": {},
   "source": [
    "### Step 1.d: Explore the length of the DataFrames\n",
    "- What is the length of the DataFrames\n",
    "    - HINT: Apply `len(...)` on the DataFrames\n",
    "- We want to explore data based on officers and data based on subjects, both with incident data.\n",
    "- Notice: It is difficult to create one dataset for both problems\n",
    "- Explore data further to understand why"
   ]
  },
  {
   "cell_type": "code",
   "execution_count": 11,
   "id": "27375a75",
   "metadata": {},
   "outputs": [
    {
     "data": {
      "text/plain": [
       "(219, 370, 223)"
      ]
     },
     "execution_count": 11,
     "metadata": {},
     "output_type": "execute_result"
    }
   ],
   "source": [
    "len(incident), len(officers),len(subjects)"
   ]
  },
  {
   "cell_type": "code",
   "execution_count": 12,
   "id": "b7146985",
   "metadata": {},
   "outputs": [
    {
     "data": {
      "text/html": [
       "<div>\n",
       "<style scoped>\n",
       "    .dataframe tbody tr th:only-of-type {\n",
       "        vertical-align: middle;\n",
       "    }\n",
       "\n",
       "    .dataframe tbody tr th {\n",
       "        vertical-align: top;\n",
       "    }\n",
       "\n",
       "    .dataframe thead th {\n",
       "        text-align: right;\n",
       "    }\n",
       "</style>\n",
       "<table border=\"1\" class=\"dataframe\">\n",
       "  <thead>\n",
       "    <tr style=\"text-align: right;\">\n",
       "      <th></th>\n",
       "      <th>case_number</th>\n",
       "      <th>date</th>\n",
       "      <th>location</th>\n",
       "      <th>subject_statuses</th>\n",
       "      <th>subject_weapon</th>\n",
       "      <th>subjects</th>\n",
       "      <th>subject_count</th>\n",
       "      <th>officers</th>\n",
       "      <th>officer_count</th>\n",
       "      <th>grand_jury_disposition</th>\n",
       "      <th>attorney_general_forms_url</th>\n",
       "      <th>summary_url</th>\n",
       "      <th>summary_text</th>\n",
       "      <th>latitude</th>\n",
       "      <th>longitude</th>\n",
       "    </tr>\n",
       "  </thead>\n",
       "  <tbody>\n",
       "    <tr>\n",
       "      <th>0</th>\n",
       "      <td>44523A</td>\n",
       "      <td>2013-02-23</td>\n",
       "      <td>3000 Chihuahua Street</td>\n",
       "      <td>Injured</td>\n",
       "      <td>Handgun</td>\n",
       "      <td>Curry, James L/M</td>\n",
       "      <td>1</td>\n",
       "      <td>Patino, Michael L/M; Fillingim, Brian W/M</td>\n",
       "      <td>2</td>\n",
       "      <td>No Bill</td>\n",
       "      <td>None</td>\n",
       "      <td>http://dallaspolice.net/reports/OIS/narrative/...</td>\n",
       "      <td>On Saturday, February 23, 2013, at approximate...</td>\n",
       "      <td>NaN</td>\n",
       "      <td>NaN</td>\n",
       "    </tr>\n",
       "    <tr>\n",
       "      <th>1</th>\n",
       "      <td>121982X</td>\n",
       "      <td>2010-05-03</td>\n",
       "      <td>1300 N. Munger Boulevard</td>\n",
       "      <td>Injured</td>\n",
       "      <td>Handgun</td>\n",
       "      <td>Chavez, Gabriel L/M</td>\n",
       "      <td>1</td>\n",
       "      <td>Padilla, Gilbert L/M</td>\n",
       "      <td>1</td>\n",
       "      <td>No Bill</td>\n",
       "      <td>None</td>\n",
       "      <td>http://dallaspolice.net/reports/OIS/narrative/...</td>\n",
       "      <td>On Monday, May 3, 2010, at approximately 8:06 ...</td>\n",
       "      <td>NaN</td>\n",
       "      <td>NaN</td>\n",
       "    </tr>\n",
       "    <tr>\n",
       "      <th>2</th>\n",
       "      <td>605484T</td>\n",
       "      <td>2007-08-12</td>\n",
       "      <td>200 S. Stemmons Freeway</td>\n",
       "      <td>Other</td>\n",
       "      <td>Shotgun</td>\n",
       "      <td>Salinas, Nick L/M</td>\n",
       "      <td>1</td>\n",
       "      <td>Poston, Jerry W/M</td>\n",
       "      <td>1</td>\n",
       "      <td>See Summary</td>\n",
       "      <td>None</td>\n",
       "      <td>http://dallaspolice.net/reports/OIS/narrative/...</td>\n",
       "      <td>On Sunday, August 12, 2007, at approximately 2...</td>\n",
       "      <td>NaN</td>\n",
       "      <td>NaN</td>\n",
       "    </tr>\n",
       "    <tr>\n",
       "      <th>3</th>\n",
       "      <td>384832T</td>\n",
       "      <td>2007-05-26</td>\n",
       "      <td>7900 S. Loop 12</td>\n",
       "      <td>Shoot and Miss</td>\n",
       "      <td>Unarmed</td>\n",
       "      <td>Smith, James B/M; Dews, Antonio B/M; Spearman,...</td>\n",
       "      <td>3</td>\n",
       "      <td>Mondy, Michael B/M</td>\n",
       "      <td>1</td>\n",
       "      <td>None</td>\n",
       "      <td>None</td>\n",
       "      <td>http://dallaspolice.net/reports/OIS/narrative/...</td>\n",
       "      <td>On Saturday, May 26, 2007, at approximately 1:...</td>\n",
       "      <td>NaN</td>\n",
       "      <td>NaN</td>\n",
       "    </tr>\n",
       "    <tr>\n",
       "      <th>4</th>\n",
       "      <td>244659R</td>\n",
       "      <td>2006-04-03</td>\n",
       "      <td>6512 South Loop 12</td>\n",
       "      <td>Injured</td>\n",
       "      <td>Hands</td>\n",
       "      <td>Watkins, Caleb B/M</td>\n",
       "      <td>1</td>\n",
       "      <td>Armstrong, Michael W/M</td>\n",
       "      <td>1</td>\n",
       "      <td>No Bill</td>\n",
       "      <td>None</td>\n",
       "      <td>http://dallaspolice.net/reports/OIS/narrative/...</td>\n",
       "      <td>On Monday, April 3, 2006, at approximately 11:...</td>\n",
       "      <td>NaN</td>\n",
       "      <td>NaN</td>\n",
       "    </tr>\n",
       "  </tbody>\n",
       "</table>\n",
       "</div>"
      ],
      "text/plain": [
       "  case_number        date                  location subject_statuses  \\\n",
       "0      44523A  2013-02-23     3000 Chihuahua Street          Injured   \n",
       "1     121982X  2010-05-03  1300 N. Munger Boulevard          Injured   \n",
       "2     605484T  2007-08-12   200 S. Stemmons Freeway            Other   \n",
       "3     384832T  2007-05-26           7900 S. Loop 12   Shoot and Miss   \n",
       "4     244659R  2006-04-03        6512 South Loop 12          Injured   \n",
       "\n",
       "  subject_weapon                                           subjects  \\\n",
       "0        Handgun                                   Curry, James L/M   \n",
       "1        Handgun                                Chavez, Gabriel L/M   \n",
       "2        Shotgun                                  Salinas, Nick L/M   \n",
       "3        Unarmed  Smith, James B/M; Dews, Antonio B/M; Spearman,...   \n",
       "4          Hands                                 Watkins, Caleb B/M   \n",
       "\n",
       "   subject_count                                   officers  officer_count  \\\n",
       "0              1  Patino, Michael L/M; Fillingim, Brian W/M              2   \n",
       "1              1                       Padilla, Gilbert L/M              1   \n",
       "2              1                          Poston, Jerry W/M              1   \n",
       "3              3                         Mondy, Michael B/M              1   \n",
       "4              1                     Armstrong, Michael W/M              1   \n",
       "\n",
       "  grand_jury_disposition attorney_general_forms_url  \\\n",
       "0                No Bill                       None   \n",
       "1                No Bill                       None   \n",
       "2            See Summary                       None   \n",
       "3                   None                       None   \n",
       "4                No Bill                       None   \n",
       "\n",
       "                                         summary_url  \\\n",
       "0  http://dallaspolice.net/reports/OIS/narrative/...   \n",
       "1  http://dallaspolice.net/reports/OIS/narrative/...   \n",
       "2  http://dallaspolice.net/reports/OIS/narrative/...   \n",
       "3  http://dallaspolice.net/reports/OIS/narrative/...   \n",
       "4  http://dallaspolice.net/reports/OIS/narrative/...   \n",
       "\n",
       "                                        summary_text  latitude  longitude  \n",
       "0  On Saturday, February 23, 2013, at approximate...       NaN        NaN  \n",
       "1  On Monday, May 3, 2010, at approximately 8:06 ...       NaN        NaN  \n",
       "2  On Sunday, August 12, 2007, at approximately 2...       NaN        NaN  \n",
       "3  On Saturday, May 26, 2007, at approximately 1:...       NaN        NaN  \n",
       "4  On Monday, April 3, 2006, at approximately 11:...       NaN        NaN  "
      ]
     },
     "execution_count": 12,
     "metadata": {},
     "output_type": "execute_result"
    }
   ],
   "source": [
    "incident.head()"
   ]
  },
  {
   "cell_type": "markdown",
   "id": "3a10ad39",
   "metadata": {},
   "source": [
    "### Step 1.e: Read data into dataset\n",
    "- Create first dataset `subject_incidents` as officers joined with incidents.\n",
    "    - What does this dataset give us?\n",
    "    - HINT:\n",
    "    ```SQL\n",
    "    SELECT * FROM table_1 JOIN table_2 ON table_1.column_name_1=table_2.column_name_2\n",
    "    ```\n",
    "    - HINT: You can join on columns `case_number`\n",
    "- Is all data represented?"
   ]
  },
  {
   "cell_type": "code",
   "execution_count": 15,
   "id": "8141f66f",
   "metadata": {},
   "outputs": [],
   "source": [
    "subject_incidents = pd.read_sql('SELECT * FROM subjects JOIN incidents ON subjects.case_number=incidents.case_number', conn)"
   ]
  },
  {
   "cell_type": "code",
   "execution_count": 16,
   "id": "772f9565",
   "metadata": {},
   "outputs": [
    {
     "data": {
      "text/plain": [
       "223"
      ]
     },
     "execution_count": 16,
     "metadata": {},
     "output_type": "execute_result"
    }
   ],
   "source": [
    "len(subject_incidents)"
   ]
  },
  {
   "cell_type": "code",
   "execution_count": 17,
   "id": "49b123bb",
   "metadata": {},
   "outputs": [
    {
     "data": {
      "text/html": [
       "<div>\n",
       "<style scoped>\n",
       "    .dataframe tbody tr th:only-of-type {\n",
       "        vertical-align: middle;\n",
       "    }\n",
       "\n",
       "    .dataframe tbody tr th {\n",
       "        vertical-align: top;\n",
       "    }\n",
       "\n",
       "    .dataframe thead th {\n",
       "        text-align: right;\n",
       "    }\n",
       "</style>\n",
       "<table border=\"1\" class=\"dataframe\">\n",
       "  <thead>\n",
       "    <tr style=\"text-align: right;\">\n",
       "      <th></th>\n",
       "      <th>case_number</th>\n",
       "      <th>race</th>\n",
       "      <th>gender</th>\n",
       "      <th>last_name</th>\n",
       "      <th>first_name</th>\n",
       "      <th>full_name</th>\n",
       "      <th>case_number</th>\n",
       "      <th>date</th>\n",
       "      <th>location</th>\n",
       "      <th>subject_statuses</th>\n",
       "      <th>...</th>\n",
       "      <th>subjects</th>\n",
       "      <th>subject_count</th>\n",
       "      <th>officers</th>\n",
       "      <th>officer_count</th>\n",
       "      <th>grand_jury_disposition</th>\n",
       "      <th>attorney_general_forms_url</th>\n",
       "      <th>summary_url</th>\n",
       "      <th>summary_text</th>\n",
       "      <th>latitude</th>\n",
       "      <th>longitude</th>\n",
       "    </tr>\n",
       "  </thead>\n",
       "  <tbody>\n",
       "    <tr>\n",
       "      <th>0</th>\n",
       "      <td>44523A</td>\n",
       "      <td>L</td>\n",
       "      <td>M</td>\n",
       "      <td>Curry</td>\n",
       "      <td>James</td>\n",
       "      <td>Curry, James</td>\n",
       "      <td>44523A</td>\n",
       "      <td>2013-02-23</td>\n",
       "      <td>3000 Chihuahua Street</td>\n",
       "      <td>Injured</td>\n",
       "      <td>...</td>\n",
       "      <td>Curry, James L/M</td>\n",
       "      <td>1</td>\n",
       "      <td>Patino, Michael L/M; Fillingim, Brian W/M</td>\n",
       "      <td>2</td>\n",
       "      <td>No Bill</td>\n",
       "      <td>None</td>\n",
       "      <td>http://dallaspolice.net/reports/OIS/narrative/...</td>\n",
       "      <td>On Saturday, February 23, 2013, at approximate...</td>\n",
       "      <td>NaN</td>\n",
       "      <td>NaN</td>\n",
       "    </tr>\n",
       "    <tr>\n",
       "      <th>1</th>\n",
       "      <td>121982X</td>\n",
       "      <td>L</td>\n",
       "      <td>M</td>\n",
       "      <td>Chavez</td>\n",
       "      <td>Gabriel</td>\n",
       "      <td>Chavez, Gabriel</td>\n",
       "      <td>121982X</td>\n",
       "      <td>2010-05-03</td>\n",
       "      <td>1300 N. Munger Boulevard</td>\n",
       "      <td>Injured</td>\n",
       "      <td>...</td>\n",
       "      <td>Chavez, Gabriel L/M</td>\n",
       "      <td>1</td>\n",
       "      <td>Padilla, Gilbert L/M</td>\n",
       "      <td>1</td>\n",
       "      <td>No Bill</td>\n",
       "      <td>None</td>\n",
       "      <td>http://dallaspolice.net/reports/OIS/narrative/...</td>\n",
       "      <td>On Monday, May 3, 2010, at approximately 8:06 ...</td>\n",
       "      <td>NaN</td>\n",
       "      <td>NaN</td>\n",
       "    </tr>\n",
       "    <tr>\n",
       "      <th>2</th>\n",
       "      <td>605484T</td>\n",
       "      <td>L</td>\n",
       "      <td>M</td>\n",
       "      <td>Salinas</td>\n",
       "      <td>Nick</td>\n",
       "      <td>Salinas, Nick</td>\n",
       "      <td>605484T</td>\n",
       "      <td>2007-08-12</td>\n",
       "      <td>200 S. Stemmons Freeway</td>\n",
       "      <td>Other</td>\n",
       "      <td>...</td>\n",
       "      <td>Salinas, Nick L/M</td>\n",
       "      <td>1</td>\n",
       "      <td>Poston, Jerry W/M</td>\n",
       "      <td>1</td>\n",
       "      <td>See Summary</td>\n",
       "      <td>None</td>\n",
       "      <td>http://dallaspolice.net/reports/OIS/narrative/...</td>\n",
       "      <td>On Sunday, August 12, 2007, at approximately 2...</td>\n",
       "      <td>NaN</td>\n",
       "      <td>NaN</td>\n",
       "    </tr>\n",
       "    <tr>\n",
       "      <th>3</th>\n",
       "      <td>384832T</td>\n",
       "      <td>B</td>\n",
       "      <td>M</td>\n",
       "      <td>Smith</td>\n",
       "      <td>James</td>\n",
       "      <td>Smith, James</td>\n",
       "      <td>384832T</td>\n",
       "      <td>2007-05-26</td>\n",
       "      <td>7900 S. Loop 12</td>\n",
       "      <td>Shoot and Miss</td>\n",
       "      <td>...</td>\n",
       "      <td>Smith, James B/M; Dews, Antonio B/M; Spearman,...</td>\n",
       "      <td>3</td>\n",
       "      <td>Mondy, Michael B/M</td>\n",
       "      <td>1</td>\n",
       "      <td>None</td>\n",
       "      <td>None</td>\n",
       "      <td>http://dallaspolice.net/reports/OIS/narrative/...</td>\n",
       "      <td>On Saturday, May 26, 2007, at approximately 1:...</td>\n",
       "      <td>NaN</td>\n",
       "      <td>NaN</td>\n",
       "    </tr>\n",
       "    <tr>\n",
       "      <th>4</th>\n",
       "      <td>384832T</td>\n",
       "      <td>B</td>\n",
       "      <td>M</td>\n",
       "      <td>Dews</td>\n",
       "      <td>Antonio</td>\n",
       "      <td>Dews, Antonio</td>\n",
       "      <td>384832T</td>\n",
       "      <td>2007-05-26</td>\n",
       "      <td>7900 S. Loop 12</td>\n",
       "      <td>Shoot and Miss</td>\n",
       "      <td>...</td>\n",
       "      <td>Smith, James B/M; Dews, Antonio B/M; Spearman,...</td>\n",
       "      <td>3</td>\n",
       "      <td>Mondy, Michael B/M</td>\n",
       "      <td>1</td>\n",
       "      <td>None</td>\n",
       "      <td>None</td>\n",
       "      <td>http://dallaspolice.net/reports/OIS/narrative/...</td>\n",
       "      <td>On Saturday, May 26, 2007, at approximately 1:...</td>\n",
       "      <td>NaN</td>\n",
       "      <td>NaN</td>\n",
       "    </tr>\n",
       "  </tbody>\n",
       "</table>\n",
       "<p>5 rows × 21 columns</p>\n",
       "</div>"
      ],
      "text/plain": [
       "  case_number race gender last_name first_name        full_name case_number  \\\n",
       "0      44523A    L      M     Curry      James     Curry, James      44523A   \n",
       "1     121982X    L      M    Chavez    Gabriel  Chavez, Gabriel     121982X   \n",
       "2     605484T    L      M   Salinas       Nick    Salinas, Nick     605484T   \n",
       "3     384832T    B      M     Smith      James     Smith, James     384832T   \n",
       "4     384832T    B      M      Dews    Antonio    Dews, Antonio     384832T   \n",
       "\n",
       "         date                  location subject_statuses  ...  \\\n",
       "0  2013-02-23     3000 Chihuahua Street          Injured  ...   \n",
       "1  2010-05-03  1300 N. Munger Boulevard          Injured  ...   \n",
       "2  2007-08-12   200 S. Stemmons Freeway            Other  ...   \n",
       "3  2007-05-26           7900 S. Loop 12   Shoot and Miss  ...   \n",
       "4  2007-05-26           7900 S. Loop 12   Shoot and Miss  ...   \n",
       "\n",
       "                                            subjects subject_count  \\\n",
       "0                                   Curry, James L/M             1   \n",
       "1                                Chavez, Gabriel L/M             1   \n",
       "2                                  Salinas, Nick L/M             1   \n",
       "3  Smith, James B/M; Dews, Antonio B/M; Spearman,...             3   \n",
       "4  Smith, James B/M; Dews, Antonio B/M; Spearman,...             3   \n",
       "\n",
       "                                    officers officer_count  \\\n",
       "0  Patino, Michael L/M; Fillingim, Brian W/M             2   \n",
       "1                       Padilla, Gilbert L/M             1   \n",
       "2                          Poston, Jerry W/M             1   \n",
       "3                         Mondy, Michael B/M             1   \n",
       "4                         Mondy, Michael B/M             1   \n",
       "\n",
       "   grand_jury_disposition attorney_general_forms_url  \\\n",
       "0                 No Bill                       None   \n",
       "1                 No Bill                       None   \n",
       "2             See Summary                       None   \n",
       "3                    None                       None   \n",
       "4                    None                       None   \n",
       "\n",
       "                                         summary_url  \\\n",
       "0  http://dallaspolice.net/reports/OIS/narrative/...   \n",
       "1  http://dallaspolice.net/reports/OIS/narrative/...   \n",
       "2  http://dallaspolice.net/reports/OIS/narrative/...   \n",
       "3  http://dallaspolice.net/reports/OIS/narrative/...   \n",
       "4  http://dallaspolice.net/reports/OIS/narrative/...   \n",
       "\n",
       "                                        summary_text latitude  longitude  \n",
       "0  On Saturday, February 23, 2013, at approximate...      NaN        NaN  \n",
       "1  On Monday, May 3, 2010, at approximately 8:06 ...      NaN        NaN  \n",
       "2  On Sunday, August 12, 2007, at approximately 2...      NaN        NaN  \n",
       "3  On Saturday, May 26, 2007, at approximately 1:...      NaN        NaN  \n",
       "4  On Saturday, May 26, 2007, at approximately 1:...      NaN        NaN  \n",
       "\n",
       "[5 rows x 21 columns]"
      ]
     },
     "execution_count": 17,
     "metadata": {},
     "output_type": "execute_result"
    }
   ],
   "source": [
    "subject_incidents.head()"
   ]
  },
  {
   "cell_type": "markdown",
   "id": "d57f6db6",
   "metadata": {},
   "source": [
    "## Step 2: Prepare\n",
    "- Explore data\n",
    "- Visualize ideas\n",
    "- Cleaning data"
   ]
  },
  {
   "cell_type": "markdown",
   "id": "24fa32b4",
   "metadata": {},
   "source": [
    "### Step 2.a: Check the data types\n",
    "- A step to get to understand the data better is to explore the data types\n",
    "- Get the data types by `.dtypes`"
   ]
  },
  {
   "cell_type": "code",
   "execution_count": 18,
   "id": "c69ce211",
   "metadata": {},
   "outputs": [
    {
     "data": {
      "text/plain": [
       "case_number                    object\n",
       "race                           object\n",
       "gender                         object\n",
       "last_name                      object\n",
       "first_name                     object\n",
       "full_name                      object\n",
       "case_number                    object\n",
       "date                           object\n",
       "location                       object\n",
       "subject_statuses               object\n",
       "subject_weapon                 object\n",
       "subjects                       object\n",
       "subject_count                   int64\n",
       "officers                       object\n",
       "officer_count                   int64\n",
       "grand_jury_disposition         object\n",
       "attorney_general_forms_url     object\n",
       "summary_url                    object\n",
       "summary_text                   object\n",
       "latitude                      float64\n",
       "longitude                     float64\n",
       "dtype: object"
      ]
     },
     "execution_count": 18,
     "metadata": {},
     "output_type": "execute_result"
    }
   ],
   "source": [
    "subject_incidents.dtypes"
   ]
  },
  {
   "cell_type": "code",
   "execution_count": null,
   "id": "b43f77e5",
   "metadata": {},
   "outputs": [],
   "source": []
  },
  {
   "cell_type": "markdown",
   "id": "b13c18b2",
   "metadata": {},
   "source": [
    "### Step 2.b: Check for null (missing) values\n",
    "- Data often is missing entries - there can be many reasons for this\n",
    "- We need to deal with that (will do later in course)\n",
    "- Use ```.isna().sum()```"
   ]
  },
  {
   "cell_type": "code",
   "execution_count": 19,
   "id": "5381337c",
   "metadata": {},
   "outputs": [
    {
     "data": {
      "text/plain": [
       "case_number                     0\n",
       "race                            0\n",
       "gender                          0\n",
       "last_name                       0\n",
       "first_name                     18\n",
       "full_name                       0\n",
       "case_number                     0\n",
       "date                            0\n",
       "location                        0\n",
       "subject_statuses                0\n",
       "subject_weapon                  0\n",
       "subjects                        0\n",
       "subject_count                   0\n",
       "officers                        0\n",
       "officer_count                   0\n",
       "grand_jury_disposition         88\n",
       "attorney_general_forms_url    221\n",
       "summary_url                     3\n",
       "summary_text                    3\n",
       "latitude                        9\n",
       "longitude                       9\n",
       "dtype: int64"
      ]
     },
     "execution_count": 19,
     "metadata": {},
     "output_type": "execute_result"
    }
   ],
   "source": [
    "subject_incidents.isna().sum()"
   ]
  },
  {
   "cell_type": "code",
   "execution_count": null,
   "id": "e495874b",
   "metadata": {},
   "outputs": [],
   "source": []
  },
  {
   "cell_type": "markdown",
   "id": "ec6a54bd",
   "metadata": {},
   "source": [
    "### Step 2.c: Explore subject_statuses column\n",
    "- As part of finding useful features let's explore `subject_statuses`\n",
    "- We know that `subject_statuses` is categorical.\n",
    "- Therefore we can use `groupby(...)` and `count()`"
   ]
  },
  {
   "cell_type": "code",
   "execution_count": 22,
   "id": "92d04aee",
   "metadata": {},
   "outputs": [
    {
     "data": {
      "text/html": [
       "<div>\n",
       "<style scoped>\n",
       "    .dataframe tbody tr th:only-of-type {\n",
       "        vertical-align: middle;\n",
       "    }\n",
       "\n",
       "    .dataframe tbody tr th {\n",
       "        vertical-align: top;\n",
       "    }\n",
       "\n",
       "    .dataframe thead th {\n",
       "        text-align: right;\n",
       "    }\n",
       "</style>\n",
       "<table border=\"1\" class=\"dataframe\">\n",
       "  <thead>\n",
       "    <tr style=\"text-align: right;\">\n",
       "      <th></th>\n",
       "      <th>case_number</th>\n",
       "      <th>race</th>\n",
       "      <th>gender</th>\n",
       "      <th>last_name</th>\n",
       "      <th>first_name</th>\n",
       "      <th>full_name</th>\n",
       "      <th>case_number</th>\n",
       "      <th>date</th>\n",
       "      <th>location</th>\n",
       "      <th>subject_weapon</th>\n",
       "      <th>subjects</th>\n",
       "      <th>subject_count</th>\n",
       "      <th>officers</th>\n",
       "      <th>officer_count</th>\n",
       "      <th>grand_jury_disposition</th>\n",
       "      <th>attorney_general_forms_url</th>\n",
       "      <th>summary_url</th>\n",
       "      <th>summary_text</th>\n",
       "      <th>latitude</th>\n",
       "      <th>longitude</th>\n",
       "    </tr>\n",
       "    <tr>\n",
       "      <th>subject_statuses</th>\n",
       "      <th></th>\n",
       "      <th></th>\n",
       "      <th></th>\n",
       "      <th></th>\n",
       "      <th></th>\n",
       "      <th></th>\n",
       "      <th></th>\n",
       "      <th></th>\n",
       "      <th></th>\n",
       "      <th></th>\n",
       "      <th></th>\n",
       "      <th></th>\n",
       "      <th></th>\n",
       "      <th></th>\n",
       "      <th></th>\n",
       "      <th></th>\n",
       "      <th></th>\n",
       "      <th></th>\n",
       "      <th></th>\n",
       "      <th></th>\n",
       "    </tr>\n",
       "  </thead>\n",
       "  <tbody>\n",
       "    <tr>\n",
       "      <th>1 Deceased 1 Injured</th>\n",
       "      <td>2</td>\n",
       "      <td>2</td>\n",
       "      <td>2</td>\n",
       "      <td>2</td>\n",
       "      <td>2</td>\n",
       "      <td>2</td>\n",
       "      <td>2</td>\n",
       "      <td>2</td>\n",
       "      <td>2</td>\n",
       "      <td>2</td>\n",
       "      <td>2</td>\n",
       "      <td>2</td>\n",
       "      <td>2</td>\n",
       "      <td>2</td>\n",
       "      <td>2</td>\n",
       "      <td>0</td>\n",
       "      <td>2</td>\n",
       "      <td>2</td>\n",
       "      <td>2</td>\n",
       "      <td>2</td>\n",
       "    </tr>\n",
       "    <tr>\n",
       "      <th>2 Injured</th>\n",
       "      <td>1</td>\n",
       "      <td>1</td>\n",
       "      <td>1</td>\n",
       "      <td>1</td>\n",
       "      <td>1</td>\n",
       "      <td>1</td>\n",
       "      <td>1</td>\n",
       "      <td>1</td>\n",
       "      <td>1</td>\n",
       "      <td>1</td>\n",
       "      <td>1</td>\n",
       "      <td>1</td>\n",
       "      <td>1</td>\n",
       "      <td>1</td>\n",
       "      <td>1</td>\n",
       "      <td>0</td>\n",
       "      <td>1</td>\n",
       "      <td>1</td>\n",
       "      <td>1</td>\n",
       "      <td>1</td>\n",
       "    </tr>\n",
       "    <tr>\n",
       "      <th>Deceased</th>\n",
       "      <td>69</td>\n",
       "      <td>69</td>\n",
       "      <td>69</td>\n",
       "      <td>69</td>\n",
       "      <td>67</td>\n",
       "      <td>69</td>\n",
       "      <td>69</td>\n",
       "      <td>69</td>\n",
       "      <td>69</td>\n",
       "      <td>69</td>\n",
       "      <td>69</td>\n",
       "      <td>69</td>\n",
       "      <td>69</td>\n",
       "      <td>69</td>\n",
       "      <td>67</td>\n",
       "      <td>1</td>\n",
       "      <td>67</td>\n",
       "      <td>67</td>\n",
       "      <td>68</td>\n",
       "      <td>68</td>\n",
       "    </tr>\n",
       "    <tr>\n",
       "      <th>Deceased Injured</th>\n",
       "      <td>2</td>\n",
       "      <td>2</td>\n",
       "      <td>2</td>\n",
       "      <td>2</td>\n",
       "      <td>2</td>\n",
       "      <td>2</td>\n",
       "      <td>2</td>\n",
       "      <td>2</td>\n",
       "      <td>2</td>\n",
       "      <td>2</td>\n",
       "      <td>2</td>\n",
       "      <td>2</td>\n",
       "      <td>2</td>\n",
       "      <td>2</td>\n",
       "      <td>2</td>\n",
       "      <td>0</td>\n",
       "      <td>2</td>\n",
       "      <td>2</td>\n",
       "      <td>2</td>\n",
       "      <td>2</td>\n",
       "    </tr>\n",
       "    <tr>\n",
       "      <th>Injured</th>\n",
       "      <td>60</td>\n",
       "      <td>60</td>\n",
       "      <td>60</td>\n",
       "      <td>60</td>\n",
       "      <td>60</td>\n",
       "      <td>60</td>\n",
       "      <td>60</td>\n",
       "      <td>60</td>\n",
       "      <td>60</td>\n",
       "      <td>60</td>\n",
       "      <td>60</td>\n",
       "      <td>60</td>\n",
       "      <td>60</td>\n",
       "      <td>60</td>\n",
       "      <td>58</td>\n",
       "      <td>1</td>\n",
       "      <td>60</td>\n",
       "      <td>60</td>\n",
       "      <td>57</td>\n",
       "      <td>57</td>\n",
       "    </tr>\n",
       "    <tr>\n",
       "      <th>Other</th>\n",
       "      <td>2</td>\n",
       "      <td>2</td>\n",
       "      <td>2</td>\n",
       "      <td>2</td>\n",
       "      <td>2</td>\n",
       "      <td>2</td>\n",
       "      <td>2</td>\n",
       "      <td>2</td>\n",
       "      <td>2</td>\n",
       "      <td>2</td>\n",
       "      <td>2</td>\n",
       "      <td>2</td>\n",
       "      <td>2</td>\n",
       "      <td>2</td>\n",
       "      <td>1</td>\n",
       "      <td>0</td>\n",
       "      <td>2</td>\n",
       "      <td>2</td>\n",
       "      <td>1</td>\n",
       "      <td>1</td>\n",
       "    </tr>\n",
       "    <tr>\n",
       "      <th>Shoot and Miss</th>\n",
       "      <td>87</td>\n",
       "      <td>87</td>\n",
       "      <td>87</td>\n",
       "      <td>87</td>\n",
       "      <td>71</td>\n",
       "      <td>87</td>\n",
       "      <td>87</td>\n",
       "      <td>87</td>\n",
       "      <td>87</td>\n",
       "      <td>87</td>\n",
       "      <td>87</td>\n",
       "      <td>87</td>\n",
       "      <td>87</td>\n",
       "      <td>87</td>\n",
       "      <td>4</td>\n",
       "      <td>0</td>\n",
       "      <td>86</td>\n",
       "      <td>86</td>\n",
       "      <td>83</td>\n",
       "      <td>83</td>\n",
       "    </tr>\n",
       "  </tbody>\n",
       "</table>\n",
       "</div>"
      ],
      "text/plain": [
       "                      case_number  race  gender  last_name  first_name  \\\n",
       "subject_statuses                                                         \n",
       "1 Deceased 1 Injured            2     2       2          2           2   \n",
       "2 Injured                       1     1       1          1           1   \n",
       "Deceased                       69    69      69         69          67   \n",
       "Deceased Injured                2     2       2          2           2   \n",
       "Injured                        60    60      60         60          60   \n",
       "Other                           2     2       2          2           2   \n",
       "Shoot and Miss                 87    87      87         87          71   \n",
       "\n",
       "                      full_name  case_number  date  location  subject_weapon  \\\n",
       "subject_statuses                                                               \n",
       "1 Deceased 1 Injured          2            2     2         2               2   \n",
       "2 Injured                     1            1     1         1               1   \n",
       "Deceased                     69           69    69        69              69   \n",
       "Deceased Injured              2            2     2         2               2   \n",
       "Injured                      60           60    60        60              60   \n",
       "Other                         2            2     2         2               2   \n",
       "Shoot and Miss               87           87    87        87              87   \n",
       "\n",
       "                      subjects  subject_count  officers  officer_count  \\\n",
       "subject_statuses                                                         \n",
       "1 Deceased 1 Injured         2              2         2              2   \n",
       "2 Injured                    1              1         1              1   \n",
       "Deceased                    69             69        69             69   \n",
       "Deceased Injured             2              2         2              2   \n",
       "Injured                     60             60        60             60   \n",
       "Other                        2              2         2              2   \n",
       "Shoot and Miss              87             87        87             87   \n",
       "\n",
       "                      grand_jury_disposition  attorney_general_forms_url  \\\n",
       "subject_statuses                                                           \n",
       "1 Deceased 1 Injured                       2                           0   \n",
       "2 Injured                                  1                           0   \n",
       "Deceased                                  67                           1   \n",
       "Deceased Injured                           2                           0   \n",
       "Injured                                   58                           1   \n",
       "Other                                      1                           0   \n",
       "Shoot and Miss                             4                           0   \n",
       "\n",
       "                      summary_url  summary_text  latitude  longitude  \n",
       "subject_statuses                                                      \n",
       "1 Deceased 1 Injured            2             2         2          2  \n",
       "2 Injured                       1             1         1          1  \n",
       "Deceased                       67            67        68         68  \n",
       "Deceased Injured                2             2         2          2  \n",
       "Injured                        60            60        57         57  \n",
       "Other                           2             2         1          1  \n",
       "Shoot and Miss                 86            86        83         83  "
      ]
     },
     "execution_count": 22,
     "metadata": {},
     "output_type": "execute_result"
    }
   ],
   "source": [
    "subject_incidents.groupby('subject_statuses').count()"
   ]
  },
  {
   "cell_type": "code",
   "execution_count": 23,
   "id": "ff27f6d8",
   "metadata": {},
   "outputs": [
    {
     "data": {
      "text/html": [
       "<div>\n",
       "<style scoped>\n",
       "    .dataframe tbody tr th:only-of-type {\n",
       "        vertical-align: middle;\n",
       "    }\n",
       "\n",
       "    .dataframe tbody tr th {\n",
       "        vertical-align: top;\n",
       "    }\n",
       "\n",
       "    .dataframe thead th {\n",
       "        text-align: right;\n",
       "    }\n",
       "</style>\n",
       "<table border=\"1\" class=\"dataframe\">\n",
       "  <thead>\n",
       "    <tr style=\"text-align: right;\">\n",
       "      <th></th>\n",
       "      <th>case_number</th>\n",
       "      <th>gender</th>\n",
       "      <th>last_name</th>\n",
       "      <th>first_name</th>\n",
       "      <th>full_name</th>\n",
       "      <th>case_number</th>\n",
       "      <th>date</th>\n",
       "      <th>location</th>\n",
       "      <th>subject_statuses</th>\n",
       "      <th>subject_weapon</th>\n",
       "      <th>subjects</th>\n",
       "      <th>subject_count</th>\n",
       "      <th>officers</th>\n",
       "      <th>officer_count</th>\n",
       "      <th>grand_jury_disposition</th>\n",
       "      <th>attorney_general_forms_url</th>\n",
       "      <th>summary_url</th>\n",
       "      <th>summary_text</th>\n",
       "      <th>latitude</th>\n",
       "      <th>longitude</th>\n",
       "    </tr>\n",
       "    <tr>\n",
       "      <th>race</th>\n",
       "      <th></th>\n",
       "      <th></th>\n",
       "      <th></th>\n",
       "      <th></th>\n",
       "      <th></th>\n",
       "      <th></th>\n",
       "      <th></th>\n",
       "      <th></th>\n",
       "      <th></th>\n",
       "      <th></th>\n",
       "      <th></th>\n",
       "      <th></th>\n",
       "      <th></th>\n",
       "      <th></th>\n",
       "      <th></th>\n",
       "      <th></th>\n",
       "      <th></th>\n",
       "      <th></th>\n",
       "      <th></th>\n",
       "      <th></th>\n",
       "    </tr>\n",
       "  </thead>\n",
       "  <tbody>\n",
       "    <tr>\n",
       "      <th>A</th>\n",
       "      <td>2</td>\n",
       "      <td>2</td>\n",
       "      <td>2</td>\n",
       "      <td>2</td>\n",
       "      <td>2</td>\n",
       "      <td>2</td>\n",
       "      <td>2</td>\n",
       "      <td>2</td>\n",
       "      <td>2</td>\n",
       "      <td>2</td>\n",
       "      <td>2</td>\n",
       "      <td>2</td>\n",
       "      <td>2</td>\n",
       "      <td>2</td>\n",
       "      <td>0</td>\n",
       "      <td>0</td>\n",
       "      <td>2</td>\n",
       "      <td>2</td>\n",
       "      <td>2</td>\n",
       "      <td>2</td>\n",
       "    </tr>\n",
       "    <tr>\n",
       "      <th>B</th>\n",
       "      <td>111</td>\n",
       "      <td>111</td>\n",
       "      <td>111</td>\n",
       "      <td>104</td>\n",
       "      <td>111</td>\n",
       "      <td>111</td>\n",
       "      <td>111</td>\n",
       "      <td>111</td>\n",
       "      <td>111</td>\n",
       "      <td>111</td>\n",
       "      <td>111</td>\n",
       "      <td>111</td>\n",
       "      <td>111</td>\n",
       "      <td>111</td>\n",
       "      <td>67</td>\n",
       "      <td>0</td>\n",
       "      <td>109</td>\n",
       "      <td>109</td>\n",
       "      <td>106</td>\n",
       "      <td>106</td>\n",
       "    </tr>\n",
       "    <tr>\n",
       "      <th>L</th>\n",
       "      <td>72</td>\n",
       "      <td>72</td>\n",
       "      <td>72</td>\n",
       "      <td>61</td>\n",
       "      <td>72</td>\n",
       "      <td>72</td>\n",
       "      <td>72</td>\n",
       "      <td>72</td>\n",
       "      <td>72</td>\n",
       "      <td>72</td>\n",
       "      <td>72</td>\n",
       "      <td>72</td>\n",
       "      <td>72</td>\n",
       "      <td>72</td>\n",
       "      <td>37</td>\n",
       "      <td>2</td>\n",
       "      <td>71</td>\n",
       "      <td>71</td>\n",
       "      <td>68</td>\n",
       "      <td>68</td>\n",
       "    </tr>\n",
       "    <tr>\n",
       "      <th>W</th>\n",
       "      <td>38</td>\n",
       "      <td>38</td>\n",
       "      <td>38</td>\n",
       "      <td>38</td>\n",
       "      <td>38</td>\n",
       "      <td>38</td>\n",
       "      <td>38</td>\n",
       "      <td>38</td>\n",
       "      <td>38</td>\n",
       "      <td>38</td>\n",
       "      <td>38</td>\n",
       "      <td>38</td>\n",
       "      <td>38</td>\n",
       "      <td>38</td>\n",
       "      <td>31</td>\n",
       "      <td>0</td>\n",
       "      <td>38</td>\n",
       "      <td>38</td>\n",
       "      <td>38</td>\n",
       "      <td>38</td>\n",
       "    </tr>\n",
       "  </tbody>\n",
       "</table>\n",
       "</div>"
      ],
      "text/plain": [
       "      case_number  gender  last_name  first_name  full_name  case_number  \\\n",
       "race                                                                       \n",
       "A               2       2          2           2          2            2   \n",
       "B             111     111        111         104        111          111   \n",
       "L              72      72         72          61         72           72   \n",
       "W              38      38         38          38         38           38   \n",
       "\n",
       "      date  location  subject_statuses  subject_weapon  subjects  \\\n",
       "race                                                               \n",
       "A        2         2                 2               2         2   \n",
       "B      111       111               111             111       111   \n",
       "L       72        72                72              72        72   \n",
       "W       38        38                38              38        38   \n",
       "\n",
       "      subject_count  officers  officer_count  grand_jury_disposition  \\\n",
       "race                                                                   \n",
       "A                 2         2              2                       0   \n",
       "B               111       111            111                      67   \n",
       "L                72        72             72                      37   \n",
       "W                38        38             38                      31   \n",
       "\n",
       "      attorney_general_forms_url  summary_url  summary_text  latitude  \\\n",
       "race                                                                    \n",
       "A                              0            2             2         2   \n",
       "B                              0          109           109       106   \n",
       "L                              2           71            71        68   \n",
       "W                              0           38            38        38   \n",
       "\n",
       "      longitude  \n",
       "race             \n",
       "A             2  \n",
       "B           106  \n",
       "L            68  \n",
       "W            38  "
      ]
     },
     "execution_count": 23,
     "metadata": {},
     "output_type": "execute_result"
    }
   ],
   "source": [
    "subject_incidents.groupby('race').count()"
   ]
  },
  {
   "cell_type": "markdown",
   "id": "03134574",
   "metadata": {},
   "source": [
    "### Step 2.d: Explore race column\n",
    "- Repeat of previous step on column `race`"
   ]
  },
  {
   "cell_type": "code",
   "execution_count": 24,
   "id": "5285129f",
   "metadata": {},
   "outputs": [
    {
     "data": {
      "text/html": [
       "<div>\n",
       "<style scoped>\n",
       "    .dataframe tbody tr th:only-of-type {\n",
       "        vertical-align: middle;\n",
       "    }\n",
       "\n",
       "    .dataframe tbody tr th {\n",
       "        vertical-align: top;\n",
       "    }\n",
       "\n",
       "    .dataframe thead th {\n",
       "        text-align: right;\n",
       "    }\n",
       "</style>\n",
       "<table border=\"1\" class=\"dataframe\">\n",
       "  <thead>\n",
       "    <tr style=\"text-align: right;\">\n",
       "      <th></th>\n",
       "      <th>case_number</th>\n",
       "      <th>gender</th>\n",
       "      <th>last_name</th>\n",
       "      <th>first_name</th>\n",
       "      <th>full_name</th>\n",
       "      <th>case_number</th>\n",
       "      <th>date</th>\n",
       "      <th>location</th>\n",
       "      <th>subject_statuses</th>\n",
       "      <th>subject_weapon</th>\n",
       "      <th>subjects</th>\n",
       "      <th>subject_count</th>\n",
       "      <th>officers</th>\n",
       "      <th>officer_count</th>\n",
       "      <th>grand_jury_disposition</th>\n",
       "      <th>attorney_general_forms_url</th>\n",
       "      <th>summary_url</th>\n",
       "      <th>summary_text</th>\n",
       "      <th>latitude</th>\n",
       "      <th>longitude</th>\n",
       "    </tr>\n",
       "    <tr>\n",
       "      <th>race</th>\n",
       "      <th></th>\n",
       "      <th></th>\n",
       "      <th></th>\n",
       "      <th></th>\n",
       "      <th></th>\n",
       "      <th></th>\n",
       "      <th></th>\n",
       "      <th></th>\n",
       "      <th></th>\n",
       "      <th></th>\n",
       "      <th></th>\n",
       "      <th></th>\n",
       "      <th></th>\n",
       "      <th></th>\n",
       "      <th></th>\n",
       "      <th></th>\n",
       "      <th></th>\n",
       "      <th></th>\n",
       "      <th></th>\n",
       "      <th></th>\n",
       "    </tr>\n",
       "  </thead>\n",
       "  <tbody>\n",
       "    <tr>\n",
       "      <th>A</th>\n",
       "      <td>2</td>\n",
       "      <td>2</td>\n",
       "      <td>2</td>\n",
       "      <td>2</td>\n",
       "      <td>2</td>\n",
       "      <td>2</td>\n",
       "      <td>2</td>\n",
       "      <td>2</td>\n",
       "      <td>2</td>\n",
       "      <td>2</td>\n",
       "      <td>2</td>\n",
       "      <td>2</td>\n",
       "      <td>2</td>\n",
       "      <td>2</td>\n",
       "      <td>0</td>\n",
       "      <td>0</td>\n",
       "      <td>2</td>\n",
       "      <td>2</td>\n",
       "      <td>2</td>\n",
       "      <td>2</td>\n",
       "    </tr>\n",
       "    <tr>\n",
       "      <th>B</th>\n",
       "      <td>111</td>\n",
       "      <td>111</td>\n",
       "      <td>111</td>\n",
       "      <td>104</td>\n",
       "      <td>111</td>\n",
       "      <td>111</td>\n",
       "      <td>111</td>\n",
       "      <td>111</td>\n",
       "      <td>111</td>\n",
       "      <td>111</td>\n",
       "      <td>111</td>\n",
       "      <td>111</td>\n",
       "      <td>111</td>\n",
       "      <td>111</td>\n",
       "      <td>67</td>\n",
       "      <td>0</td>\n",
       "      <td>109</td>\n",
       "      <td>109</td>\n",
       "      <td>106</td>\n",
       "      <td>106</td>\n",
       "    </tr>\n",
       "    <tr>\n",
       "      <th>L</th>\n",
       "      <td>72</td>\n",
       "      <td>72</td>\n",
       "      <td>72</td>\n",
       "      <td>61</td>\n",
       "      <td>72</td>\n",
       "      <td>72</td>\n",
       "      <td>72</td>\n",
       "      <td>72</td>\n",
       "      <td>72</td>\n",
       "      <td>72</td>\n",
       "      <td>72</td>\n",
       "      <td>72</td>\n",
       "      <td>72</td>\n",
       "      <td>72</td>\n",
       "      <td>37</td>\n",
       "      <td>2</td>\n",
       "      <td>71</td>\n",
       "      <td>71</td>\n",
       "      <td>68</td>\n",
       "      <td>68</td>\n",
       "    </tr>\n",
       "    <tr>\n",
       "      <th>W</th>\n",
       "      <td>38</td>\n",
       "      <td>38</td>\n",
       "      <td>38</td>\n",
       "      <td>38</td>\n",
       "      <td>38</td>\n",
       "      <td>38</td>\n",
       "      <td>38</td>\n",
       "      <td>38</td>\n",
       "      <td>38</td>\n",
       "      <td>38</td>\n",
       "      <td>38</td>\n",
       "      <td>38</td>\n",
       "      <td>38</td>\n",
       "      <td>38</td>\n",
       "      <td>31</td>\n",
       "      <td>0</td>\n",
       "      <td>38</td>\n",
       "      <td>38</td>\n",
       "      <td>38</td>\n",
       "      <td>38</td>\n",
       "    </tr>\n",
       "  </tbody>\n",
       "</table>\n",
       "</div>"
      ],
      "text/plain": [
       "      case_number  gender  last_name  first_name  full_name  case_number  \\\n",
       "race                                                                       \n",
       "A               2       2          2           2          2            2   \n",
       "B             111     111        111         104        111          111   \n",
       "L              72      72         72          61         72           72   \n",
       "W              38      38         38          38         38           38   \n",
       "\n",
       "      date  location  subject_statuses  subject_weapon  subjects  \\\n",
       "race                                                               \n",
       "A        2         2                 2               2         2   \n",
       "B      111       111               111             111       111   \n",
       "L       72        72                72              72        72   \n",
       "W       38        38                38              38        38   \n",
       "\n",
       "      subject_count  officers  officer_count  grand_jury_disposition  \\\n",
       "race                                                                   \n",
       "A                 2         2              2                       0   \n",
       "B               111       111            111                      67   \n",
       "L                72        72             72                      37   \n",
       "W                38        38             38                      31   \n",
       "\n",
       "      attorney_general_forms_url  summary_url  summary_text  latitude  \\\n",
       "race                                                                    \n",
       "A                              0            2             2         2   \n",
       "B                              0          109           109       106   \n",
       "L                              2           71            71        68   \n",
       "W                              0           38            38        38   \n",
       "\n",
       "      longitude  \n",
       "race             \n",
       "A             2  \n",
       "B           106  \n",
       "L            68  \n",
       "W            38  "
      ]
     },
     "execution_count": 24,
     "metadata": {},
     "output_type": "execute_result"
    }
   ],
   "source": [
    "subject_incidents.groupby('race').count()"
   ]
  },
  {
   "cell_type": "code",
   "execution_count": null,
   "id": "0c0600e5",
   "metadata": {},
   "outputs": [],
   "source": []
  },
  {
   "cell_type": "markdown",
   "id": "fc75fe4b",
   "metadata": {},
   "source": [
    "### Step 2.e: Explore more columns\n",
    "- Feel free to explore more columns (also called features)"
   ]
  },
  {
   "cell_type": "code",
   "execution_count": null,
   "id": "895825dd",
   "metadata": {},
   "outputs": [],
   "source": []
  },
  {
   "cell_type": "code",
   "execution_count": null,
   "id": "a7bdb142",
   "metadata": {},
   "outputs": [],
   "source": []
  },
  {
   "cell_type": "markdown",
   "id": "d8231b1f",
   "metadata": {},
   "source": [
    "### Step 2.f: Visualize ideas\n",
    "- We want to make a visual plot of the shooting incident\n",
    "- Let's explore if we can make a plot based on longitude and latitude.\n",
    "    - HINT: use `plot.scatter(x='longitude', y='latitude')`\n",
    "- Then the analysis phase will focus on how to make useful insights with the feature selections."
   ]
  },
  {
   "cell_type": "code",
   "execution_count": 25,
   "id": "e9355aaa",
   "metadata": {},
   "outputs": [
    {
     "data": {
      "text/plain": [
       "<AxesSubplot:xlabel='longitude', ylabel='latitude'>"
      ]
     },
     "execution_count": 25,
     "metadata": {},
     "output_type": "execute_result"
    },
    {
     "data": {
      "image/png": "[encoded data removed]",
      "text/plain": [
       "<Figure size 432x288 with 1 Axes>"
      ]
     },
     "metadata": {
      "needs_background": "light"
     },
     "output_type": "display_data"
    }
   ],
   "source": [
    "subject_incidents.plot.scatter(x='longitude', y='latitude')"
   ]
  },
  {
   "cell_type": "code",
   "execution_count": null,
   "id": "73d0424a",
   "metadata": {},
   "outputs": [],
   "source": []
  },
  {
   "cell_type": "markdown",
   "id": "17e523e2",
   "metadata": {},
   "source": [
    "## Step 3: Analyze\n",
    "- Feature selection\n",
    "- Model selection\n",
    "- Analyze data"
   ]
  },
  {
   "cell_type": "markdown",
   "id": "ee7028f9",
   "metadata": {},
   "source": [
    "### Step 3.a: Feature selection\n",
    "- Here we will continue with the features selected feel free to explore other features.\n",
    "- Create a `dataset` with the features: `race`, `subject_statuses`, `latitude`, `longitude`\n",
    "    - HINT: Select the features of the DataFrame `subject_incidents` by filtering with a list of the columns.\n",
    "- To make further processing easier apply `dropna()` to remove missing data."
   ]
  },
  {
   "cell_type": "code",
   "execution_count": 27,
   "id": "5fbacd89",
   "metadata": {},
   "outputs": [],
   "source": [
    "dataset = subject_incidents[['race','subject_statuses','latitude','longitude']].dropna()"
   ]
  },
  {
   "cell_type": "code",
   "execution_count": 28,
   "id": "e7148f12",
   "metadata": {},
   "outputs": [
    {
     "data": {
      "text/plain": [
       "214"
      ]
     },
     "execution_count": 28,
     "metadata": {},
     "output_type": "execute_result"
    }
   ],
   "source": [
    "len(dataset)"
   ]
  },
  {
   "cell_type": "markdown",
   "id": "8849b418",
   "metadata": {},
   "source": [
    "### Step 3.b: How to visualize features\n",
    "- We want to visualize the two features: `race` and `subject_statuses`\n",
    "- A way to visualize data is by color and size.\n",
    "- Idea:\n",
    "    - Map the race features to colors\n",
    "    - Map the subject_statuses to a size"
   ]
  },
  {
   "cell_type": "markdown",
   "id": "6f8a3a8b",
   "metadata": {},
   "source": [
    "### Step 3.b.1: Convert column\n",
    "- The `race` column has the following categories: B, W, A, L\n",
    "- We can map that to color values ([docs](https://matplotlib.org/stable/gallery/color/named_colors.html))\n",
    "- A simple way to map columns is by using `apply` on a lambda-function.\n",
    "    - Create a dict with the mapping:\n",
    "    ```Python\n",
    "mapping = {'B': 'blue', 'W': 'yellow', 'A': 'red', 'L': 'cyan'}\n",
    "```\n",
    "    - Do the mapping with `apply`and `lambda` as follows\n",
    "    ```Python\n",
    "dataset['race'] = dataset['race'].apply(lambda x: mapping[x])\n",
    "```"
   ]
  },
  {
   "cell_type": "code",
   "execution_count": 29,
   "id": "d3a88c1f",
   "metadata": {},
   "outputs": [
    {
     "data": {
      "text/html": [
       "<div>\n",
       "<style scoped>\n",
       "    .dataframe tbody tr th:only-of-type {\n",
       "        vertical-align: middle;\n",
       "    }\n",
       "\n",
       "    .dataframe tbody tr th {\n",
       "        vertical-align: top;\n",
       "    }\n",
       "\n",
       "    .dataframe thead th {\n",
       "        text-align: right;\n",
       "    }\n",
       "</style>\n",
       "<table border=\"1\" class=\"dataframe\">\n",
       "  <thead>\n",
       "    <tr style=\"text-align: right;\">\n",
       "      <th></th>\n",
       "      <th>race</th>\n",
       "      <th>subject_statuses</th>\n",
       "      <th>latitude</th>\n",
       "      <th>longitude</th>\n",
       "    </tr>\n",
       "  </thead>\n",
       "  <tbody>\n",
       "    <tr>\n",
       "      <th>9</th>\n",
       "      <td>cyan</td>\n",
       "      <td>Deceased</td>\n",
       "      <td>32.68642</td>\n",
       "      <td>-96.908674</td>\n",
       "    </tr>\n",
       "    <tr>\n",
       "      <th>10</th>\n",
       "      <td>blue</td>\n",
       "      <td>Deceased</td>\n",
       "      <td>32.86400</td>\n",
       "      <td>-96.898998</td>\n",
       "    </tr>\n",
       "    <tr>\n",
       "      <th>11</th>\n",
       "      <td>yellow</td>\n",
       "      <td>Shoot and Miss</td>\n",
       "      <td>32.81482</td>\n",
       "      <td>-96.826787</td>\n",
       "    </tr>\n",
       "    <tr>\n",
       "      <th>12</th>\n",
       "      <td>blue</td>\n",
       "      <td>Injured</td>\n",
       "      <td>32.77540</td>\n",
       "      <td>-96.767489</td>\n",
       "    </tr>\n",
       "    <tr>\n",
       "      <th>13</th>\n",
       "      <td>blue</td>\n",
       "      <td>Shoot and Miss</td>\n",
       "      <td>32.74417</td>\n",
       "      <td>-96.828470</td>\n",
       "    </tr>\n",
       "  </tbody>\n",
       "</table>\n",
       "</div>"
      ],
      "text/plain": [
       "      race subject_statuses  latitude  longitude\n",
       "9     cyan         Deceased  32.68642 -96.908674\n",
       "10    blue         Deceased  32.86400 -96.898998\n",
       "11  yellow   Shoot and Miss  32.81482 -96.826787\n",
       "12    blue          Injured  32.77540 -96.767489\n",
       "13    blue   Shoot and Miss  32.74417 -96.828470"
      ]
     },
     "execution_count": 29,
     "metadata": {},
     "output_type": "execute_result"
    }
   ],
   "source": [
    "mapping = {'B': 'blue', 'W': 'yellow', 'A': 'red', 'L': 'cyan'}\n",
    "dataset['race'] = dataset['race'].apply(lambda x: mapping[x])\n",
    "dataset.head()"
   ]
  },
  {
   "cell_type": "code",
   "execution_count": null,
   "id": "f7d1a090",
   "metadata": {},
   "outputs": [],
   "source": []
  },
  {
   "cell_type": "markdown",
   "id": "6c101de5",
   "metadata": {},
   "source": [
    "### Step 3.b.2: Convert column\n",
    "- The `subject_statuses` has the following categories: `'1 Deceased 1 Injured', '2 Injured', 'Deceased', 'Deceased Injured', 'Injured', 'Other', 'Shoot and Miss'`\n",
    "- The main categories are: `'Deceased', 'Injured', 'Shoot and Miss'`\n",
    "- A simple way is quite similar to last step.\n",
    "    - Create a mapping of the main categories:\n",
    "    ```Python\n",
    "mapping = {'Deceased': 1000, 'Injured': 500, 'Shoot and Miss': 250}\n",
    "```\n",
    "    - Do the mapping with `apply`and `lambda` as follows\n",
    "    ```Python\n",
    "dataset['subject_statuses'] = dataset['subject_statuses'].apply(lambda x: mapping.get(x, 100))\n",
    "```"
   ]
  },
  {
   "cell_type": "code",
   "execution_count": 30,
   "id": "057006ac",
   "metadata": {},
   "outputs": [],
   "source": [
    "mapping = {'Deceased': 1000, 'Injured': 500, 'Shoot and Miss': 250}"
   ]
  },
  {
   "cell_type": "code",
   "execution_count": 31,
   "id": "8c98bf76",
   "metadata": {},
   "outputs": [],
   "source": [
    "dataset['subject_statuses'] = dataset['subject_statuses'].apply(lambda x: mapping.get(x, 100))"
   ]
  },
  {
   "cell_type": "markdown",
   "id": "5daf8533",
   "metadata": {},
   "source": [
    "### Step 3.c: Visualize the data\n",
    "- Now we can visualize the data\n",
    "- This can be done with a scatter plot\n",
    "```Python\n",
    "dataset.plot.scatter(x='longitude', y='latitude', s='subject_statuses', c='race', alpha=.5)\n",
    "```\n",
    "- Where `s=` is the size feature and `c=` is the color feature, `figsize=` sets the size of the figure, `alpha=` sets the transparency of the dots."
   ]
  },
  {
   "cell_type": "code",
   "execution_count": 34,
   "id": "3312a0aa",
   "metadata": {},
   "outputs": [
    {
     "data": {
      "text/plain": [
       "<AxesSubplot:xlabel='longitude', ylabel='latitude'>"
      ]
     },
     "execution_count": 34,
     "metadata": {},
     "output_type": "execute_result"
    },
    {
     "data": {
      "image/png": "[encoded data removed]",
      "text/plain": [
       "<Figure size 432x288 with 1 Axes>"
      ]
     },
     "metadata": {
      "needs_background": "light"
     },
     "output_type": "display_data"
    }
   ],
   "source": [
    "dataset.plot.scatter(x='longitude', y='latitude', s='subject_statuses', c='race', alpha=.25)"
   ]
  },
  {
   "cell_type": "code",
   "execution_count": null,
   "id": "a3508228",
   "metadata": {},
   "outputs": [],
   "source": []
  },
  {
   "cell_type": "markdown",
   "id": "b3f35cc5",
   "metadata": {},
   "source": [
    "## Step 4: Report\n",
    "- Present findings\n",
    "- Visualize results\n",
    "- Credibility counts"
   ]
  },
  {
   "cell_type": "markdown",
   "id": "0b66580f",
   "metadata": {},
   "source": [
    "### Step 4.a: Present a chart\n",
    "- The goal here is to present your message\n",
    "- Visualize one chart\n",
    "- Add a headline (title) to give the audience a message"
   ]
  },
  {
   "cell_type": "code",
   "execution_count": 35,
   "id": "0fa71528",
   "metadata": {},
   "outputs": [
    {
     "data": {
      "text/plain": [
       "<AxesSubplot:title={'center':'Dallas shootings'}, xlabel='longitude', ylabel='latitude'>"
      ]
     },
     "execution_count": 35,
     "metadata": {},
     "output_type": "execute_result"
    },
    {
     "data": {
      "image/png": "[encoded data removed]",
      "text/plain": [
       "<Figure size 432x288 with 1 Axes>"
      ]
     },
     "metadata": {
      "needs_background": "light"
     },
     "output_type": "display_data"
    }
   ],
   "source": [
    "dataset.plot.scatter(x='longitude', y='latitude', s='subject_statuses', c='race', alpha=.5,title = \"Dallas shootings\" )"
   ]
  },
  {
   "cell_type": "code",
   "execution_count": null,
   "id": "2eb65f10",
   "metadata": {},
   "outputs": [],
   "source": []
  },
  {
   "cell_type": "markdown",
   "id": "b9210fdb",
   "metadata": {},
   "source": [
    "### Step 4.b (Optional): Further improvements\n",
    "- Ideas to improve the visualization\n",
    "- Add description (legends) with color and size description.\n",
    "- Visualize it on a map\n",
    "    - You could use [folium](https://python-visualization.github.io/folium/)\n",
    "    - Explore [quick guide](https://python-visualization.github.io/folium/quickstart.html)"
   ]
  },
  {
   "cell_type": "code",
   "execution_count": 36,
   "id": "f3ab5be6",
   "metadata": {
    "scrolled": true
   },
   "outputs": [
    {
     "name": "stdout",
     "output_type": "stream",
     "text": [
      "Defaulting to user installation because normal site-packages is not writeable\n",
      "Requirement already satisfied: folium in /home/nyingi/.local/lib/python3.8/site-packages (0.12.1.post1)\n",
      "Requirement already satisfied: jinja2>=2.9 in /usr/local/lib/python3.8/dist-packages (from folium) (3.1.1)\n",
      "Requirement already satisfied: branca>=0.3.0 in /home/nyingi/.local/lib/python3.8/site-packages (from folium) (0.4.2)\n",
      "Requirement already satisfied: numpy in /home/nyingi/.local/lib/python3.8/site-packages (from folium) (1.22.3)\n",
      "Requirement already satisfied: requests in /usr/lib/python3/dist-packages (from folium) (2.22.0)\n",
      "Requirement already satisfied: MarkupSafe>=2.0 in /usr/local/lib/python3.8/dist-packages (from jinja2>=2.9->folium) (2.1.1)\n"
     ]
    }
   ],
   "source": [
    "!pip install folium"
   ]
  },
  {
   "cell_type": "code",
   "execution_count": 37,
   "id": "b6f92786",
   "metadata": {},
   "outputs": [],
   "source": [
    "import folium"
   ]
  },
  {
   "cell_type": "code",
   "execution_count": 38,
   "id": "862db25d",
   "metadata": {},
   "outputs": [],
   "source": [
    "m = folium.Map(location =[32.8, -96.8])"
   ]
  },
  {
   "cell_type": "code",
   "execution_count": 39,
   "id": "7f9ba544",
   "metadata": {},
   "outputs": [
    {
     "data": {
      "text/html": [
       "<div style=\"width:100%;\"><div style=\"position:relative;width:100%;height:0;padding-bottom:60%;\"><span style=\"color:#565656\">Make this Notebook Trusted to load map: File -> Trust Notebook</span><iframe src=\"about:blank\" style=\"position:absolute;width:100%;height:100%;left:0;top:0;border:none !important;\" data-html=%3C%21DOCTYPE%20html%3E%0A%3Chead%3E%20%20%20%20%0A%20%20%20%20%3Cmeta%20http-equiv%3D%22content-type%22%20content%3D%22text/html%3B%20charset%3DUTF-8%22%20/%3E%0A%20%20%20%20%0A%20%20%20%20%20%20%20%20%3Cscript%3E%0A%20%20%20%20%20%20%20%20%20%20%20%20L_NO_TOUCH%20%3D%20false%3B%0A%20%20%20%20%20%20%20%20%20%20%20%20L_DISABLE_3D%20%3D%20false%3B%0A%20%20%20%20%20%20%20%20%3C/script%3E%0A%20%20%20%20%0A%20%20%20%20%3Cstyle%3Ehtml%2C%20body%20%7Bwidth%3A%20100%25%3Bheight%3A%20100%25%3Bmargin%3A%200%3Bpadding%3A%200%3B%7D%3C/style%3E%0A%20%20%20%20%3Cstyle%3E%23map%20%7Bposition%3Aabsolute%3Btop%3A0%3Bbottom%3A0%3Bright%3A0%3Bleft%3A0%3B%7D%3C/style%3E%0A%20%20%20%20%3Cscript%20src%3D%22https%3A//cdn.jsdelivr.net/npm/leaflet%401.6.0/dist/leaflet.js%22%3E%3C/script%3E%0A%20%20%20%20%3Cscript%20src%3D%22https%3A//code.jquery.com/jquery-1.12.4.min.js%22%3E%3C/script%3E%0A%20%20%20%20%3Cscript%20src%3D%22https%3A//maxcdn.bootstrapcdn.com/bootstrap/3.2.0/js/bootstrap.min.js%22%3E%3C/script%3E%0A%20%20%20%20%3Cscript%20src%3D%22https%3A//cdnjs.cloudflare.com/ajax/libs/Leaflet.awesome-markers/2.0.2/leaflet.awesome-markers.js%22%3E%3C/script%3E%0A%20%20%20%20%3Clink%20rel%3D%22stylesheet%22%20href%3D%22https%3A//cdn.jsdelivr.net/npm/leaflet%401.6.0/dist/leaflet.css%22/%3E%0A%20%20%20%20%3Clink%20rel%3D%22stylesheet%22%20href%3D%22https%3A//maxcdn.bootstrapcdn.com/bootstrap/3.2.0/css/bootstrap.min.css%22/%3E%0A%20%20%20%20%3Clink%20rel%3D%22stylesheet%22%20href%3D%22https%3A//maxcdn.bootstrapcdn.com/bootstrap/3.2.0/css/bootstrap-theme.min.css%22/%3E%0A%20%20%20%20%3Clink%20rel%3D%22stylesheet%22%20href%3D%22https%3A//maxcdn.bootstrapcdn.com/font-awesome/4.6.3/css/font-awesome.min.css%22/%3E%0A%20%20%20%20%3Clink%20rel%3D%22stylesheet%22%20href%3D%22https%3A//cdnjs.cloudflare.com/ajax/libs/Leaflet.awesome-markers/2.0.2/leaflet.awesome-markers.css%22/%3E%0A%20%20%20%20%3Clink%20rel%3D%22stylesheet%22%20href%3D%22https%3A//cdn.jsdelivr.net/gh/python-visualization/folium/folium/templates/leaflet.awesome.rotate.min.css%22/%3E%0A%20%20%20%20%0A%20%20%20%20%20%20%20%20%20%20%20%20%3Cmeta%20name%3D%22viewport%22%20content%3D%22width%3Ddevice-width%2C%0A%20%20%20%20%20%20%20%20%20%20%20%20%20%20%20%20initial-scale%3D1.0%2C%20maximum-scale%3D1.0%2C%20user-scalable%3Dno%22%20/%3E%0A%20%20%20%20%20%20%20%20%20%20%20%20%3Cstyle%3E%0A%20%20%20%20%20%20%20%20%20%20%20%20%20%20%20%20%23map_1ec12a9df3f446fbac72b9813e302bc8%20%7B%0A%20%20%20%20%20%20%20%20%20%20%20%20%20%20%20%20%20%20%20%20position%3A%20relative%3B%0A%20%20%20%20%20%20%20%20%20%20%20%20%20%20%20%20%20%20%20%20width%3A%20100.0%25%3B%0A%20%20%20%20%20%20%20%20%20%20%20%20%20%20%20%20%20%20%20%20height%3A%20100.0%25%3B%0A%20%20%20%20%20%20%20%20%20%20%20%20%20%20%20%20%20%20%20%20left%3A%200.0%25%3B%0A%20%20%20%20%20%20%20%20%20%20%20%20%20%20%20%20%20%20%20%20top%3A%200.0%25%3B%0A%20%20%20%20%20%20%20%20%20%20%20%20%20%20%20%20%7D%0A%20%20%20%20%20%20%20%20%20%20%20%20%3C/style%3E%0A%20%20%20%20%20%20%20%20%0A%3C/head%3E%0A%3Cbody%3E%20%20%20%20%0A%20%20%20%20%0A%20%20%20%20%20%20%20%20%20%20%20%20%3Cdiv%20class%3D%22folium-map%22%20id%3D%22map_1ec12a9df3f446fbac72b9813e302bc8%22%20%3E%3C/div%3E%0A%20%20%20%20%20%20%20%20%0A%3C/body%3E%0A%3Cscript%3E%20%20%20%20%0A%20%20%20%20%0A%20%20%20%20%20%20%20%20%20%20%20%20var%20map_1ec12a9df3f446fbac72b9813e302bc8%20%3D%20L.map%28%0A%20%20%20%20%20%20%20%20%20%20%20%20%20%20%20%20%22map_1ec12a9df3f446fbac72b9813e302bc8%22%2C%0A%20%20%20%20%20%20%20%20%20%20%20%20%20%20%20%20%7B%0A%20%20%20%20%20%20%20%20%20%20%20%20%20%20%20%20%20%20%20%20center%3A%20%5B32.8%2C%20-96.8%5D%2C%0A%20%20%20%20%20%20%20%20%20%20%20%20%20%20%20%20%20%20%20%20crs%3A%20L.CRS.EPSG3857%2C%0A%20%20%20%20%20%20%20%20%20%20%20%20%20%20%20%20%20%20%20%20zoom%3A%2010%2C%0A%20%20%20%20%20%20%20%20%20%20%20%20%20%20%20%20%20%20%20%20zoomControl%3A%20true%2C%0A%20%20%20%20%20%20%20%20%20%20%20%20%20%20%20%20%20%20%20%20preferCanvas%3A%20false%2C%0A%20%20%20%20%20%20%20%20%20%20%20%20%20%20%20%20%7D%0A%20%20%20%20%20%20%20%20%20%20%20%20%29%3B%0A%0A%20%20%20%20%20%20%20%20%20%20%20%20%0A%0A%20%20%20%20%20%20%20%20%0A%20%20%20%20%0A%20%20%20%20%20%20%20%20%20%20%20%20var%20tile_layer_d1b6a01a0ae84b3dbfd54c9881458398%20%3D%20L.tileLayer%28%0A%20%20%20%20%20%20%20%20%20%20%20%20%20%20%20%20%22https%3A//%7Bs%7D.tile.openstreetmap.org/%7Bz%7D/%7Bx%7D/%7By%7D.png%22%2C%0A%20%20%20%20%20%20%20%20%20%20%20%20%20%20%20%20%7B%22attribution%22%3A%20%22Data%20by%20%5Cu0026copy%3B%20%5Cu003ca%20href%3D%5C%22http%3A//openstreetmap.org%5C%22%5Cu003eOpenStreetMap%5Cu003c/a%5Cu003e%2C%20under%20%5Cu003ca%20href%3D%5C%22http%3A//www.openstreetmap.org/copyright%5C%22%5Cu003eODbL%5Cu003c/a%5Cu003e.%22%2C%20%22detectRetina%22%3A%20false%2C%20%22maxNativeZoom%22%3A%2018%2C%20%22maxZoom%22%3A%2018%2C%20%22minZoom%22%3A%200%2C%20%22noWrap%22%3A%20false%2C%20%22opacity%22%3A%201%2C%20%22subdomains%22%3A%20%22abc%22%2C%20%22tms%22%3A%20false%7D%0A%20%20%20%20%20%20%20%20%20%20%20%20%29.addTo%28map_1ec12a9df3f446fbac72b9813e302bc8%29%3B%0A%20%20%20%20%20%20%20%20%0A%3C/script%3E onload=\"this.contentDocument.open();this.contentDocument.write(    decodeURIComponent(this.getAttribute('data-html')));this.contentDocument.close();\" allowfullscreen webkitallowfullscreen mozallowfullscreen></iframe></div></div>"
      ],
      "text/plain": [
       "<folium.folium.Map at 0x7fe89a259f70>"
      ]
     },
     "execution_count": 39,
     "metadata": {},
     "output_type": "execute_result"
    }
   ],
   "source": [
    "m"
   ]
  },
  {
   "cell_type": "code",
   "execution_count": 53,
   "id": "e276d2e1",
   "metadata": {},
   "outputs": [
    {
     "ename": "SyntaxError",
     "evalue": "invalid syntax (1024556690.py, line 1)",
     "output_type": "error",
     "traceback": [
      "\u001b[0;36m  Input \u001b[0;32mIn [53]\u001b[0;36m\u001b[0m\n\u001b[0;31m    for_, row in dataset.iterrows():\u001b[0m\n\u001b[0m                                    ^\u001b[0m\n\u001b[0;31mSyntaxError\u001b[0m\u001b[0;31m:\u001b[0m invalid syntax\n"
     ]
    }
   ],
   "source": [
    "for_, row in dataset.iterrows():\n",
    "    \n",
    "    folium.CircleMarker(\n",
    "        location=[row['latitude'], row['longitude']],\n",
    "        radius=row['subject_statuses']//100,\n",
    "\n",
    "        color=row['race'],\n",
    "        fill=True,\n",
    "        fill_color=row['race'],\n",
    "    ).add_to(m)\n"
   ]
  },
  {
   "cell_type": "markdown",
   "id": "566fc854",
   "metadata": {},
   "source": [
    "## Step 5: Actions\n",
    "- Use insights\n",
    "- Measure impact\n",
    "- Main goal"
   ]
  },
  {
   "cell_type": "markdown",
   "id": "6a752369",
   "metadata": {},
   "source": [
    "### Step 5.a (Optional): Are there any insights?\n",
    "- Any insights you want to highlight?\n",
    "- Any future measurements?"
   ]
  },
  {
   "cell_type": "code",
   "execution_count": null,
   "id": "25084892",
   "metadata": {},
   "outputs": [],
   "source": []
  }
 ],
 "metadata": {
  "kernelspec": {
   "display_name": "Python 3 (ipykernel)",
   "language": "python",
   "name": "python3"
  },
  "language_info": {
   "codemirror_mode": {
    "name": "ipython",
    "version": 3
   },
   "file_extension": ".py",
   "mimetype": "text/x-python",
   "name": "python",
   "nbconvert_exporter": "python",
   "pygments_lexer": "ipython3",
   "version": "3.8.10"
  }
 },
 "nbformat": 4,
 "nbformat_minor": 5
}
