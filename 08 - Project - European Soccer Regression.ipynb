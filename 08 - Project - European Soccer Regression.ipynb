{
 "cells": [
  {
   "cell_type": "markdown",
   "id": "39c877c9",
   "metadata": {},
   "source": [
    "# Predict Soccer Players with Regression"
   ]
  },
  {
   "cell_type": "markdown",
   "id": "26869a35",
   "metadata": {},
   "source": [
    "![Data Science Workflow](img/ds-workflow.png)"
   ]
  },
  {
   "cell_type": "markdown",
   "id": "e06eeb79",
   "metadata": {},
   "source": [
    "## Goal of Project\n",
    "- Make a model to predict players overall rating based on metrics\n",
    "- This is a subset of the Kaggle dataset [European Soccer Database](https://www.kaggle.com/hugomathien/soccer)\n",
    "    - A bigger project is to predict outcomes of games"
   ]
  },
  {
   "cell_type": "markdown",
   "id": "77f362c4",
   "metadata": {},
   "source": [
    "## Step 1: Acquire\n",
    "- Explore problem\n",
    "- Identify data\n",
    "- Import data"
   ]
  },
  {
   "cell_type": "markdown",
   "id": "6f8cbbcb",
   "metadata": {},
   "source": [
    "### Step 1.a: Import libraries\n",
    "- Execute the cell below (SHIFT + ENTER)"
   ]
  },
  {
   "cell_type": "code",
   "execution_count": 37,
   "id": "9b9c78d1",
   "metadata": {},
   "outputs": [],
   "source": [
    "import pandas as pd\n",
    "from sklearn.linear_model import LinearRegression\n",
    "from sklearn.model_selection import train_test_split\n",
    "from sklearn.metrics import r2_score\n",
    "import matplotlib.pyplot as plt\n",
    "%matplotlib inline"
   ]
  },
  {
   "cell_type": "markdown",
   "id": "b5f9a799",
   "metadata": {},
   "source": [
    "### Step 1.b: Read the data\n",
    "- Use ```pd.read_parquet()``` to read the file `files/soccer.parquet`\n",
    "- NOTE: Remember to assign the result to a variable (e.g., ```data```)\n",
    "- Apply ```.head()``` on the data to see all is as expected"
   ]
  },
  {
   "cell_type": "code",
   "execution_count": 38,
   "id": "e2c750e2",
   "metadata": {},
   "outputs": [],
   "source": [
    "data = pd.read_parquet('files/soccer.parquet')"
   ]
  },
  {
   "cell_type": "code",
   "execution_count": 39,
   "id": "df48758e",
   "metadata": {},
   "outputs": [
    {
     "data": {
      "text/html": [
       "<div>\n",
       "<style scoped>\n",
       "    .dataframe tbody tr th:only-of-type {\n",
       "        vertical-align: middle;\n",
       "    }\n",
       "\n",
       "    .dataframe tbody tr th {\n",
       "        vertical-align: top;\n",
       "    }\n",
       "\n",
       "    .dataframe thead th {\n",
       "        text-align: right;\n",
       "    }\n",
       "</style>\n",
       "<table border=\"1\" class=\"dataframe\">\n",
       "  <thead>\n",
       "    <tr style=\"text-align: right;\">\n",
       "      <th></th>\n",
       "      <th>player_fifa_api_id</th>\n",
       "      <th>player_api_id</th>\n",
       "      <th>date</th>\n",
       "      <th>overall_rating</th>\n",
       "      <th>potential</th>\n",
       "      <th>preferred_foot</th>\n",
       "      <th>attacking_work_rate</th>\n",
       "      <th>defensive_work_rate</th>\n",
       "      <th>crossing</th>\n",
       "      <th>finishing</th>\n",
       "      <th>...</th>\n",
       "      <th>vision</th>\n",
       "      <th>penalties</th>\n",
       "      <th>marking</th>\n",
       "      <th>standing_tackle</th>\n",
       "      <th>sliding_tackle</th>\n",
       "      <th>gk_diving</th>\n",
       "      <th>gk_handling</th>\n",
       "      <th>gk_kicking</th>\n",
       "      <th>gk_positioning</th>\n",
       "      <th>gk_reflexes</th>\n",
       "    </tr>\n",
       "    <tr>\n",
       "      <th>id</th>\n",
       "      <th></th>\n",
       "      <th></th>\n",
       "      <th></th>\n",
       "      <th></th>\n",
       "      <th></th>\n",
       "      <th></th>\n",
       "      <th></th>\n",
       "      <th></th>\n",
       "      <th></th>\n",
       "      <th></th>\n",
       "      <th></th>\n",
       "      <th></th>\n",
       "      <th></th>\n",
       "      <th></th>\n",
       "      <th></th>\n",
       "      <th></th>\n",
       "      <th></th>\n",
       "      <th></th>\n",
       "      <th></th>\n",
       "      <th></th>\n",
       "      <th></th>\n",
       "    </tr>\n",
       "  </thead>\n",
       "  <tbody>\n",
       "    <tr>\n",
       "      <th>1</th>\n",
       "      <td>218353</td>\n",
       "      <td>505942</td>\n",
       "      <td>2016-02-18 00:00:00</td>\n",
       "      <td>67.0</td>\n",
       "      <td>71.0</td>\n",
       "      <td>right</td>\n",
       "      <td>medium</td>\n",
       "      <td>medium</td>\n",
       "      <td>49.0</td>\n",
       "      <td>44.0</td>\n",
       "      <td>...</td>\n",
       "      <td>54.0</td>\n",
       "      <td>48.0</td>\n",
       "      <td>65.0</td>\n",
       "      <td>69.0</td>\n",
       "      <td>69.0</td>\n",
       "      <td>6.0</td>\n",
       "      <td>11.0</td>\n",
       "      <td>10.0</td>\n",
       "      <td>8.0</td>\n",
       "      <td>8.0</td>\n",
       "    </tr>\n",
       "    <tr>\n",
       "      <th>2</th>\n",
       "      <td>218353</td>\n",
       "      <td>505942</td>\n",
       "      <td>2015-11-19 00:00:00</td>\n",
       "      <td>67.0</td>\n",
       "      <td>71.0</td>\n",
       "      <td>right</td>\n",
       "      <td>medium</td>\n",
       "      <td>medium</td>\n",
       "      <td>49.0</td>\n",
       "      <td>44.0</td>\n",
       "      <td>...</td>\n",
       "      <td>54.0</td>\n",
       "      <td>48.0</td>\n",
       "      <td>65.0</td>\n",
       "      <td>69.0</td>\n",
       "      <td>69.0</td>\n",
       "      <td>6.0</td>\n",
       "      <td>11.0</td>\n",
       "      <td>10.0</td>\n",
       "      <td>8.0</td>\n",
       "      <td>8.0</td>\n",
       "    </tr>\n",
       "    <tr>\n",
       "      <th>3</th>\n",
       "      <td>218353</td>\n",
       "      <td>505942</td>\n",
       "      <td>2015-09-21 00:00:00</td>\n",
       "      <td>62.0</td>\n",
       "      <td>66.0</td>\n",
       "      <td>right</td>\n",
       "      <td>medium</td>\n",
       "      <td>medium</td>\n",
       "      <td>49.0</td>\n",
       "      <td>44.0</td>\n",
       "      <td>...</td>\n",
       "      <td>54.0</td>\n",
       "      <td>48.0</td>\n",
       "      <td>65.0</td>\n",
       "      <td>66.0</td>\n",
       "      <td>69.0</td>\n",
       "      <td>6.0</td>\n",
       "      <td>11.0</td>\n",
       "      <td>10.0</td>\n",
       "      <td>8.0</td>\n",
       "      <td>8.0</td>\n",
       "    </tr>\n",
       "    <tr>\n",
       "      <th>4</th>\n",
       "      <td>218353</td>\n",
       "      <td>505942</td>\n",
       "      <td>2015-03-20 00:00:00</td>\n",
       "      <td>61.0</td>\n",
       "      <td>65.0</td>\n",
       "      <td>right</td>\n",
       "      <td>medium</td>\n",
       "      <td>medium</td>\n",
       "      <td>48.0</td>\n",
       "      <td>43.0</td>\n",
       "      <td>...</td>\n",
       "      <td>53.0</td>\n",
       "      <td>47.0</td>\n",
       "      <td>62.0</td>\n",
       "      <td>63.0</td>\n",
       "      <td>66.0</td>\n",
       "      <td>5.0</td>\n",
       "      <td>10.0</td>\n",
       "      <td>9.0</td>\n",
       "      <td>7.0</td>\n",
       "      <td>7.0</td>\n",
       "    </tr>\n",
       "    <tr>\n",
       "      <th>5</th>\n",
       "      <td>218353</td>\n",
       "      <td>505942</td>\n",
       "      <td>2007-02-22 00:00:00</td>\n",
       "      <td>61.0</td>\n",
       "      <td>65.0</td>\n",
       "      <td>right</td>\n",
       "      <td>medium</td>\n",
       "      <td>medium</td>\n",
       "      <td>48.0</td>\n",
       "      <td>43.0</td>\n",
       "      <td>...</td>\n",
       "      <td>53.0</td>\n",
       "      <td>47.0</td>\n",
       "      <td>62.0</td>\n",
       "      <td>63.0</td>\n",
       "      <td>66.0</td>\n",
       "      <td>5.0</td>\n",
       "      <td>10.0</td>\n",
       "      <td>9.0</td>\n",
       "      <td>7.0</td>\n",
       "      <td>7.0</td>\n",
       "    </tr>\n",
       "  </tbody>\n",
       "</table>\n",
       "<p>5 rows × 41 columns</p>\n",
       "</div>"
      ],
      "text/plain": [
       "    player_fifa_api_id  player_api_id                 date  overall_rating  \\\n",
       "id                                                                           \n",
       "1               218353         505942  2016-02-18 00:00:00            67.0   \n",
       "2               218353         505942  2015-11-19 00:00:00            67.0   \n",
       "3               218353         505942  2015-09-21 00:00:00            62.0   \n",
       "4               218353         505942  2015-03-20 00:00:00            61.0   \n",
       "5               218353         505942  2007-02-22 00:00:00            61.0   \n",
       "\n",
       "    potential preferred_foot attacking_work_rate defensive_work_rate  \\\n",
       "id                                                                     \n",
       "1        71.0          right              medium              medium   \n",
       "2        71.0          right              medium              medium   \n",
       "3        66.0          right              medium              medium   \n",
       "4        65.0          right              medium              medium   \n",
       "5        65.0          right              medium              medium   \n",
       "\n",
       "    crossing  finishing  ...  vision  penalties  marking  standing_tackle  \\\n",
       "id                       ...                                                \n",
       "1       49.0       44.0  ...    54.0       48.0     65.0             69.0   \n",
       "2       49.0       44.0  ...    54.0       48.0     65.0             69.0   \n",
       "3       49.0       44.0  ...    54.0       48.0     65.0             66.0   \n",
       "4       48.0       43.0  ...    53.0       47.0     62.0             63.0   \n",
       "5       48.0       43.0  ...    53.0       47.0     62.0             63.0   \n",
       "\n",
       "    sliding_tackle  gk_diving  gk_handling  gk_kicking  gk_positioning  \\\n",
       "id                                                                       \n",
       "1             69.0        6.0         11.0        10.0             8.0   \n",
       "2             69.0        6.0         11.0        10.0             8.0   \n",
       "3             69.0        6.0         11.0        10.0             8.0   \n",
       "4             66.0        5.0         10.0         9.0             7.0   \n",
       "5             66.0        5.0         10.0         9.0             7.0   \n",
       "\n",
       "    gk_reflexes  \n",
       "id               \n",
       "1           8.0  \n",
       "2           8.0  \n",
       "3           8.0  \n",
       "4           7.0  \n",
       "5           7.0  \n",
       "\n",
       "[5 rows x 41 columns]"
      ]
     },
     "execution_count": 39,
     "metadata": {},
     "output_type": "execute_result"
    }
   ],
   "source": [
    "data.head()"
   ]
  },
  {
   "cell_type": "markdown",
   "id": "11862c2e",
   "metadata": {},
   "source": [
    "### Step 1.c: Data size\n",
    "- HINT: `len(data)`"
   ]
  },
  {
   "cell_type": "code",
   "execution_count": 40,
   "id": "1be8002b",
   "metadata": {},
   "outputs": [
    {
     "data": {
      "text/plain": [
       "183978"
      ]
     },
     "execution_count": 40,
     "metadata": {},
     "output_type": "execute_result"
    }
   ],
   "source": [
    "len(data)"
   ]
  },
  {
   "cell_type": "code",
   "execution_count": null,
   "id": "12434dc0",
   "metadata": {},
   "outputs": [],
   "source": []
  },
  {
   "cell_type": "markdown",
   "id": "3bec949d",
   "metadata": {},
   "source": [
    "## Step 2: Prepare\n",
    "- Explore data\n",
    "- Visualize ideas\n",
    "- Cleaning data"
   ]
  },
  {
   "cell_type": "markdown",
   "id": "a2377dd7",
   "metadata": {},
   "source": [
    "### Step 2.a: Inspect the data\n",
    "- There are many metrics\n",
    "- To keep it simple let's keep the numeric\n",
    "    - HINT: find them with `.dtypes`\n",
    "- You can select all columns of numeric data types as follows `.select_dtypes(include='number')`\n",
    "    - HINT: assign all the numeric columns to your variable (this is needed for the model, as it does not understand non-numeric features)."
   ]
  },
  {
   "cell_type": "code",
   "execution_count": 41,
   "id": "a33af6bd",
   "metadata": {},
   "outputs": [
    {
     "data": {
      "text/plain": [
       "player_fifa_api_id       int64\n",
       "player_api_id            int64\n",
       "date                    object\n",
       "overall_rating         float64\n",
       "potential              float64\n",
       "preferred_foot          object\n",
       "attacking_work_rate     object\n",
       "defensive_work_rate     object\n",
       "crossing               float64\n",
       "finishing              float64\n",
       "heading_accuracy       float64\n",
       "short_passing          float64\n",
       "volleys                float64\n",
       "dribbling              float64\n",
       "curve                  float64\n",
       "free_kick_accuracy     float64\n",
       "long_passing           float64\n",
       "ball_control           float64\n",
       "acceleration           float64\n",
       "sprint_speed           float64\n",
       "agility                float64\n",
       "reactions              float64\n",
       "balance                float64\n",
       "shot_power             float64\n",
       "jumping                float64\n",
       "stamina                float64\n",
       "strength               float64\n",
       "long_shots             float64\n",
       "aggression             float64\n",
       "interceptions          float64\n",
       "positioning            float64\n",
       "vision                 float64\n",
       "penalties              float64\n",
       "marking                float64\n",
       "standing_tackle        float64\n",
       "sliding_tackle         float64\n",
       "gk_diving              float64\n",
       "gk_handling            float64\n",
       "gk_kicking             float64\n",
       "gk_positioning         float64\n",
       "gk_reflexes            float64\n",
       "dtype: object"
      ]
     },
     "execution_count": 41,
     "metadata": {},
     "output_type": "execute_result"
    }
   ],
   "source": [
    "data.dtypes"
   ]
  },
  {
   "cell_type": "code",
   "execution_count": 42,
   "id": "ad4953ed",
   "metadata": {},
   "outputs": [],
   "source": [
    "data = data.select_dtypes(include='number')"
   ]
  },
  {
   "cell_type": "markdown",
   "id": "2867789a",
   "metadata": {},
   "source": [
    "### Step 2.b: Check for null (missing) values\n",
    "- Data often is missing entries - there can be many reasons for this\n",
    "- We need to deal with that (will do later in course)\n",
    "- Use ```.isnull().any()```\n",
    "- See how many have null values (Assuming `data` contains your data)\n",
    "```Python\n",
    "data.isnull().sum()/len(data)*100\n",
    "```"
   ]
  },
  {
   "cell_type": "code",
   "execution_count": 43,
   "id": "348c6128",
   "metadata": {},
   "outputs": [
    {
     "data": {
      "text/plain": [
       "player_fifa_api_id    False\n",
       "player_api_id         False\n",
       "overall_rating         True\n",
       "potential              True\n",
       "crossing               True\n",
       "finishing              True\n",
       "heading_accuracy       True\n",
       "short_passing          True\n",
       "volleys                True\n",
       "dribbling              True\n",
       "curve                  True\n",
       "free_kick_accuracy     True\n",
       "long_passing           True\n",
       "ball_control           True\n",
       "acceleration           True\n",
       "sprint_speed           True\n",
       "agility                True\n",
       "reactions              True\n",
       "balance                True\n",
       "shot_power             True\n",
       "jumping                True\n",
       "stamina                True\n",
       "strength               True\n",
       "long_shots             True\n",
       "aggression             True\n",
       "interceptions          True\n",
       "positioning            True\n",
       "vision                 True\n",
       "penalties              True\n",
       "marking                True\n",
       "standing_tackle        True\n",
       "sliding_tackle         True\n",
       "gk_diving              True\n",
       "gk_handling            True\n",
       "gk_kicking             True\n",
       "gk_positioning         True\n",
       "gk_reflexes            True\n",
       "dtype: bool"
      ]
     },
     "execution_count": 43,
     "metadata": {},
     "output_type": "execute_result"
    }
   ],
   "source": [
    "data.isnull().any()"
   ]
  },
  {
   "cell_type": "code",
   "execution_count": 44,
   "id": "2376f853",
   "metadata": {},
   "outputs": [
    {
     "data": {
      "text/plain": [
       "player_fifa_api_id    0.000000\n",
       "player_api_id         0.000000\n",
       "overall_rating        0.454402\n",
       "potential             0.454402\n",
       "crossing              0.454402\n",
       "finishing             0.454402\n",
       "heading_accuracy      0.454402\n",
       "short_passing         0.454402\n",
       "volleys               1.474633\n",
       "dribbling             0.454402\n",
       "curve                 1.474633\n",
       "free_kick_accuracy    0.454402\n",
       "long_passing          0.454402\n",
       "ball_control          0.454402\n",
       "acceleration          0.454402\n",
       "sprint_speed          0.454402\n",
       "agility               1.474633\n",
       "reactions             0.454402\n",
       "balance               1.474633\n",
       "shot_power            0.454402\n",
       "jumping               1.474633\n",
       "stamina               0.454402\n",
       "strength              0.454402\n",
       "long_shots            0.454402\n",
       "aggression            0.454402\n",
       "interceptions         0.454402\n",
       "positioning           0.454402\n",
       "vision                1.474633\n",
       "penalties             0.454402\n",
       "marking               0.454402\n",
       "standing_tackle       0.454402\n",
       "sliding_tackle        1.474633\n",
       "gk_diving             0.454402\n",
       "gk_handling           0.454402\n",
       "gk_kicking            0.454402\n",
       "gk_positioning        0.454402\n",
       "gk_reflexes           0.454402\n",
       "dtype: float64"
      ]
     },
     "execution_count": 44,
     "metadata": {},
     "output_type": "execute_result"
    }
   ],
   "source": [
    "data.isnull().sum()/len(data)*100"
   ]
  },
  {
   "cell_type": "markdown",
   "id": "48c7dd7b",
   "metadata": {},
   "source": [
    "### Step 2.c: Drop missing data\n",
    "- Remove rows with missing data\n",
    "- HINT: `.dropna()`"
   ]
  },
  {
   "cell_type": "code",
   "execution_count": 46,
   "id": "abed35b1",
   "metadata": {},
   "outputs": [],
   "source": [
    "data = data.dropna()"
   ]
  },
  {
   "cell_type": "code",
   "execution_count": 47,
   "id": "fa389f1c",
   "metadata": {},
   "outputs": [
    {
     "data": {
      "text/html": [
       "<div>\n",
       "<style scoped>\n",
       "    .dataframe tbody tr th:only-of-type {\n",
       "        vertical-align: middle;\n",
       "    }\n",
       "\n",
       "    .dataframe tbody tr th {\n",
       "        vertical-align: top;\n",
       "    }\n",
       "\n",
       "    .dataframe thead th {\n",
       "        text-align: right;\n",
       "    }\n",
       "</style>\n",
       "<table border=\"1\" class=\"dataframe\">\n",
       "  <thead>\n",
       "    <tr style=\"text-align: right;\">\n",
       "      <th></th>\n",
       "      <th>player_fifa_api_id</th>\n",
       "      <th>player_api_id</th>\n",
       "      <th>overall_rating</th>\n",
       "      <th>potential</th>\n",
       "      <th>crossing</th>\n",
       "      <th>finishing</th>\n",
       "      <th>heading_accuracy</th>\n",
       "      <th>short_passing</th>\n",
       "      <th>volleys</th>\n",
       "      <th>dribbling</th>\n",
       "      <th>...</th>\n",
       "      <th>vision</th>\n",
       "      <th>penalties</th>\n",
       "      <th>marking</th>\n",
       "      <th>standing_tackle</th>\n",
       "      <th>sliding_tackle</th>\n",
       "      <th>gk_diving</th>\n",
       "      <th>gk_handling</th>\n",
       "      <th>gk_kicking</th>\n",
       "      <th>gk_positioning</th>\n",
       "      <th>gk_reflexes</th>\n",
       "    </tr>\n",
       "    <tr>\n",
       "      <th>id</th>\n",
       "      <th></th>\n",
       "      <th></th>\n",
       "      <th></th>\n",
       "      <th></th>\n",
       "      <th></th>\n",
       "      <th></th>\n",
       "      <th></th>\n",
       "      <th></th>\n",
       "      <th></th>\n",
       "      <th></th>\n",
       "      <th></th>\n",
       "      <th></th>\n",
       "      <th></th>\n",
       "      <th></th>\n",
       "      <th></th>\n",
       "      <th></th>\n",
       "      <th></th>\n",
       "      <th></th>\n",
       "      <th></th>\n",
       "      <th></th>\n",
       "      <th></th>\n",
       "    </tr>\n",
       "  </thead>\n",
       "  <tbody>\n",
       "    <tr>\n",
       "      <th>1</th>\n",
       "      <td>218353</td>\n",
       "      <td>505942</td>\n",
       "      <td>67.0</td>\n",
       "      <td>71.0</td>\n",
       "      <td>49.0</td>\n",
       "      <td>44.0</td>\n",
       "      <td>71.0</td>\n",
       "      <td>61.0</td>\n",
       "      <td>44.0</td>\n",
       "      <td>51.0</td>\n",
       "      <td>...</td>\n",
       "      <td>54.0</td>\n",
       "      <td>48.0</td>\n",
       "      <td>65.0</td>\n",
       "      <td>69.0</td>\n",
       "      <td>69.0</td>\n",
       "      <td>6.0</td>\n",
       "      <td>11.0</td>\n",
       "      <td>10.0</td>\n",
       "      <td>8.0</td>\n",
       "      <td>8.0</td>\n",
       "    </tr>\n",
       "    <tr>\n",
       "      <th>2</th>\n",
       "      <td>218353</td>\n",
       "      <td>505942</td>\n",
       "      <td>67.0</td>\n",
       "      <td>71.0</td>\n",
       "      <td>49.0</td>\n",
       "      <td>44.0</td>\n",
       "      <td>71.0</td>\n",
       "      <td>61.0</td>\n",
       "      <td>44.0</td>\n",
       "      <td>51.0</td>\n",
       "      <td>...</td>\n",
       "      <td>54.0</td>\n",
       "      <td>48.0</td>\n",
       "      <td>65.0</td>\n",
       "      <td>69.0</td>\n",
       "      <td>69.0</td>\n",
       "      <td>6.0</td>\n",
       "      <td>11.0</td>\n",
       "      <td>10.0</td>\n",
       "      <td>8.0</td>\n",
       "      <td>8.0</td>\n",
       "    </tr>\n",
       "    <tr>\n",
       "      <th>3</th>\n",
       "      <td>218353</td>\n",
       "      <td>505942</td>\n",
       "      <td>62.0</td>\n",
       "      <td>66.0</td>\n",
       "      <td>49.0</td>\n",
       "      <td>44.0</td>\n",
       "      <td>71.0</td>\n",
       "      <td>61.0</td>\n",
       "      <td>44.0</td>\n",
       "      <td>51.0</td>\n",
       "      <td>...</td>\n",
       "      <td>54.0</td>\n",
       "      <td>48.0</td>\n",
       "      <td>65.0</td>\n",
       "      <td>66.0</td>\n",
       "      <td>69.0</td>\n",
       "      <td>6.0</td>\n",
       "      <td>11.0</td>\n",
       "      <td>10.0</td>\n",
       "      <td>8.0</td>\n",
       "      <td>8.0</td>\n",
       "    </tr>\n",
       "    <tr>\n",
       "      <th>4</th>\n",
       "      <td>218353</td>\n",
       "      <td>505942</td>\n",
       "      <td>61.0</td>\n",
       "      <td>65.0</td>\n",
       "      <td>48.0</td>\n",
       "      <td>43.0</td>\n",
       "      <td>70.0</td>\n",
       "      <td>60.0</td>\n",
       "      <td>43.0</td>\n",
       "      <td>50.0</td>\n",
       "      <td>...</td>\n",
       "      <td>53.0</td>\n",
       "      <td>47.0</td>\n",
       "      <td>62.0</td>\n",
       "      <td>63.0</td>\n",
       "      <td>66.0</td>\n",
       "      <td>5.0</td>\n",
       "      <td>10.0</td>\n",
       "      <td>9.0</td>\n",
       "      <td>7.0</td>\n",
       "      <td>7.0</td>\n",
       "    </tr>\n",
       "    <tr>\n",
       "      <th>5</th>\n",
       "      <td>218353</td>\n",
       "      <td>505942</td>\n",
       "      <td>61.0</td>\n",
       "      <td>65.0</td>\n",
       "      <td>48.0</td>\n",
       "      <td>43.0</td>\n",
       "      <td>70.0</td>\n",
       "      <td>60.0</td>\n",
       "      <td>43.0</td>\n",
       "      <td>50.0</td>\n",
       "      <td>...</td>\n",
       "      <td>53.0</td>\n",
       "      <td>47.0</td>\n",
       "      <td>62.0</td>\n",
       "      <td>63.0</td>\n",
       "      <td>66.0</td>\n",
       "      <td>5.0</td>\n",
       "      <td>10.0</td>\n",
       "      <td>9.0</td>\n",
       "      <td>7.0</td>\n",
       "      <td>7.0</td>\n",
       "    </tr>\n",
       "    <tr>\n",
       "      <th>...</th>\n",
       "      <td>...</td>\n",
       "      <td>...</td>\n",
       "      <td>...</td>\n",
       "      <td>...</td>\n",
       "      <td>...</td>\n",
       "      <td>...</td>\n",
       "      <td>...</td>\n",
       "      <td>...</td>\n",
       "      <td>...</td>\n",
       "      <td>...</td>\n",
       "      <td>...</td>\n",
       "      <td>...</td>\n",
       "      <td>...</td>\n",
       "      <td>...</td>\n",
       "      <td>...</td>\n",
       "      <td>...</td>\n",
       "      <td>...</td>\n",
       "      <td>...</td>\n",
       "      <td>...</td>\n",
       "      <td>...</td>\n",
       "      <td>...</td>\n",
       "    </tr>\n",
       "    <tr>\n",
       "      <th>183974</th>\n",
       "      <td>102359</td>\n",
       "      <td>39902</td>\n",
       "      <td>83.0</td>\n",
       "      <td>85.0</td>\n",
       "      <td>84.0</td>\n",
       "      <td>77.0</td>\n",
       "      <td>59.0</td>\n",
       "      <td>89.0</td>\n",
       "      <td>77.0</td>\n",
       "      <td>84.0</td>\n",
       "      <td>...</td>\n",
       "      <td>88.0</td>\n",
       "      <td>83.0</td>\n",
       "      <td>22.0</td>\n",
       "      <td>31.0</td>\n",
       "      <td>30.0</td>\n",
       "      <td>9.0</td>\n",
       "      <td>20.0</td>\n",
       "      <td>84.0</td>\n",
       "      <td>20.0</td>\n",
       "      <td>20.0</td>\n",
       "    </tr>\n",
       "    <tr>\n",
       "      <th>183975</th>\n",
       "      <td>102359</td>\n",
       "      <td>39902</td>\n",
       "      <td>78.0</td>\n",
       "      <td>80.0</td>\n",
       "      <td>74.0</td>\n",
       "      <td>76.0</td>\n",
       "      <td>53.0</td>\n",
       "      <td>84.0</td>\n",
       "      <td>77.0</td>\n",
       "      <td>85.0</td>\n",
       "      <td>...</td>\n",
       "      <td>88.0</td>\n",
       "      <td>70.0</td>\n",
       "      <td>32.0</td>\n",
       "      <td>31.0</td>\n",
       "      <td>30.0</td>\n",
       "      <td>9.0</td>\n",
       "      <td>20.0</td>\n",
       "      <td>73.0</td>\n",
       "      <td>20.0</td>\n",
       "      <td>20.0</td>\n",
       "    </tr>\n",
       "    <tr>\n",
       "      <th>183976</th>\n",
       "      <td>102359</td>\n",
       "      <td>39902</td>\n",
       "      <td>77.0</td>\n",
       "      <td>80.0</td>\n",
       "      <td>74.0</td>\n",
       "      <td>71.0</td>\n",
       "      <td>53.0</td>\n",
       "      <td>84.0</td>\n",
       "      <td>77.0</td>\n",
       "      <td>85.0</td>\n",
       "      <td>...</td>\n",
       "      <td>88.0</td>\n",
       "      <td>70.0</td>\n",
       "      <td>32.0</td>\n",
       "      <td>31.0</td>\n",
       "      <td>30.0</td>\n",
       "      <td>9.0</td>\n",
       "      <td>20.0</td>\n",
       "      <td>73.0</td>\n",
       "      <td>20.0</td>\n",
       "      <td>20.0</td>\n",
       "    </tr>\n",
       "    <tr>\n",
       "      <th>183977</th>\n",
       "      <td>102359</td>\n",
       "      <td>39902</td>\n",
       "      <td>78.0</td>\n",
       "      <td>81.0</td>\n",
       "      <td>74.0</td>\n",
       "      <td>64.0</td>\n",
       "      <td>57.0</td>\n",
       "      <td>86.0</td>\n",
       "      <td>77.0</td>\n",
       "      <td>87.0</td>\n",
       "      <td>...</td>\n",
       "      <td>88.0</td>\n",
       "      <td>53.0</td>\n",
       "      <td>28.0</td>\n",
       "      <td>32.0</td>\n",
       "      <td>30.0</td>\n",
       "      <td>9.0</td>\n",
       "      <td>20.0</td>\n",
       "      <td>73.0</td>\n",
       "      <td>20.0</td>\n",
       "      <td>20.0</td>\n",
       "    </tr>\n",
       "    <tr>\n",
       "      <th>183978</th>\n",
       "      <td>102359</td>\n",
       "      <td>39902</td>\n",
       "      <td>80.0</td>\n",
       "      <td>81.0</td>\n",
       "      <td>74.0</td>\n",
       "      <td>68.0</td>\n",
       "      <td>57.0</td>\n",
       "      <td>88.0</td>\n",
       "      <td>77.0</td>\n",
       "      <td>87.0</td>\n",
       "      <td>...</td>\n",
       "      <td>88.0</td>\n",
       "      <td>53.0</td>\n",
       "      <td>38.0</td>\n",
       "      <td>32.0</td>\n",
       "      <td>30.0</td>\n",
       "      <td>9.0</td>\n",
       "      <td>9.0</td>\n",
       "      <td>78.0</td>\n",
       "      <td>7.0</td>\n",
       "      <td>15.0</td>\n",
       "    </tr>\n",
       "  </tbody>\n",
       "</table>\n",
       "<p>181265 rows × 37 columns</p>\n",
       "</div>"
      ],
      "text/plain": [
       "        player_fifa_api_id  player_api_id  overall_rating  potential  \\\n",
       "id                                                                     \n",
       "1                   218353         505942            67.0       71.0   \n",
       "2                   218353         505942            67.0       71.0   \n",
       "3                   218353         505942            62.0       66.0   \n",
       "4                   218353         505942            61.0       65.0   \n",
       "5                   218353         505942            61.0       65.0   \n",
       "...                    ...            ...             ...        ...   \n",
       "183974              102359          39902            83.0       85.0   \n",
       "183975              102359          39902            78.0       80.0   \n",
       "183976              102359          39902            77.0       80.0   \n",
       "183977              102359          39902            78.0       81.0   \n",
       "183978              102359          39902            80.0       81.0   \n",
       "\n",
       "        crossing  finishing  heading_accuracy  short_passing  volleys  \\\n",
       "id                                                                      \n",
       "1           49.0       44.0              71.0           61.0     44.0   \n",
       "2           49.0       44.0              71.0           61.0     44.0   \n",
       "3           49.0       44.0              71.0           61.0     44.0   \n",
       "4           48.0       43.0              70.0           60.0     43.0   \n",
       "5           48.0       43.0              70.0           60.0     43.0   \n",
       "...          ...        ...               ...            ...      ...   \n",
       "183974      84.0       77.0              59.0           89.0     77.0   \n",
       "183975      74.0       76.0              53.0           84.0     77.0   \n",
       "183976      74.0       71.0              53.0           84.0     77.0   \n",
       "183977      74.0       64.0              57.0           86.0     77.0   \n",
       "183978      74.0       68.0              57.0           88.0     77.0   \n",
       "\n",
       "        dribbling  ...  vision  penalties  marking  standing_tackle  \\\n",
       "id                 ...                                                \n",
       "1            51.0  ...    54.0       48.0     65.0             69.0   \n",
       "2            51.0  ...    54.0       48.0     65.0             69.0   \n",
       "3            51.0  ...    54.0       48.0     65.0             66.0   \n",
       "4            50.0  ...    53.0       47.0     62.0             63.0   \n",
       "5            50.0  ...    53.0       47.0     62.0             63.0   \n",
       "...           ...  ...     ...        ...      ...              ...   \n",
       "183974       84.0  ...    88.0       83.0     22.0             31.0   \n",
       "183975       85.0  ...    88.0       70.0     32.0             31.0   \n",
       "183976       85.0  ...    88.0       70.0     32.0             31.0   \n",
       "183977       87.0  ...    88.0       53.0     28.0             32.0   \n",
       "183978       87.0  ...    88.0       53.0     38.0             32.0   \n",
       "\n",
       "        sliding_tackle  gk_diving  gk_handling  gk_kicking  gk_positioning  \\\n",
       "id                                                                           \n",
       "1                 69.0        6.0         11.0        10.0             8.0   \n",
       "2                 69.0        6.0         11.0        10.0             8.0   \n",
       "3                 69.0        6.0         11.0        10.0             8.0   \n",
       "4                 66.0        5.0         10.0         9.0             7.0   \n",
       "5                 66.0        5.0         10.0         9.0             7.0   \n",
       "...                ...        ...          ...         ...             ...   \n",
       "183974            30.0        9.0         20.0        84.0            20.0   \n",
       "183975            30.0        9.0         20.0        73.0            20.0   \n",
       "183976            30.0        9.0         20.0        73.0            20.0   \n",
       "183977            30.0        9.0         20.0        73.0            20.0   \n",
       "183978            30.0        9.0          9.0        78.0             7.0   \n",
       "\n",
       "        gk_reflexes  \n",
       "id                   \n",
       "1               8.0  \n",
       "2               8.0  \n",
       "3               8.0  \n",
       "4               7.0  \n",
       "5               7.0  \n",
       "...             ...  \n",
       "183974         20.0  \n",
       "183975         20.0  \n",
       "183976         20.0  \n",
       "183977         20.0  \n",
       "183978         15.0  \n",
       "\n",
       "[181265 rows x 37 columns]"
      ]
     },
     "execution_count": 47,
     "metadata": {},
     "output_type": "execute_result"
    }
   ],
   "source": [
    "data"
   ]
  },
  {
   "cell_type": "markdown",
   "id": "137fdfde",
   "metadata": {},
   "source": [
    "### Step 2.d: Visualize data\n",
    "- Make a histogram of the `overall_rating`\n",
    "- This gives you an understanding of the data\n",
    "- What does it tell you?"
   ]
  },
  {
   "cell_type": "code",
   "execution_count": 50,
   "id": "60cd6bbe",
   "metadata": {},
   "outputs": [
    {
     "data": {
      "text/plain": [
       "<AxesSubplot:ylabel='Frequency'>"
      ]
     },
     "execution_count": 50,
     "metadata": {},
     "output_type": "execute_result"
    },
    {
     "data": {
      "image/png": "[encoded data removed]",
      "text/plain": [
       "<Figure size 432x288 with 1 Axes>"
      ]
     },
     "metadata": {
      "needs_background": "light"
     },
     "output_type": "display_data"
    }
   ],
   "source": [
    "data['overall_rating'].plot.hist(bins = 20)"
   ]
  },
  {
   "cell_type": "code",
   "execution_count": 51,
   "id": "ba3315fa",
   "metadata": {},
   "outputs": [
    {
     "data": {
      "text/plain": [
       "count    181265.000000\n",
       "mean         68.621493\n",
       "std           7.029845\n",
       "min          33.000000\n",
       "25%          64.000000\n",
       "50%          69.000000\n",
       "75%          73.000000\n",
       "max          94.000000\n",
       "Name: overall_rating, dtype: float64"
      ]
     },
     "execution_count": 51,
     "metadata": {},
     "output_type": "execute_result"
    }
   ],
   "source": [
    "data['overall_rating'].describe()"
   ]
  },
  {
   "cell_type": "markdown",
   "id": "8cc1cabe",
   "metadata": {},
   "source": [
    "## Step 3: Analyze\n",
    "- Feature selection\n",
    "- Model selection\n",
    "- Analyze data"
   ]
  },
  {
   "cell_type": "markdown",
   "id": "28c050b4",
   "metadata": {},
   "source": [
    "### Step 3.a: Feature and target selection\n",
    "- The target data is given by `overall_rating`\n",
    "- As we do not have a description of the date, let's learn a bit about it\n",
    "    - HINT: Use `data.corr()['overall_rating'].sort_values(ascending=False)`\n",
    "- For simplicity de-select features you do not thing should be part of the analysis\n",
    "- Create DataFrames `X` and `y` containing the features and target, respectively.\n",
    "    - HINT: To get all columns except one use `.drop(['overall_rating', <insert other here>], axis=1)`\n",
    "    - HINT: Keep `y` as a DataFrame for simplicity later"
   ]
  },
  {
   "cell_type": "code",
   "execution_count": 52,
   "id": "ba508c02",
   "metadata": {},
   "outputs": [
    {
     "data": {
      "text/plain": [
       "overall_rating        1.000000\n",
       "reactions             0.770963\n",
       "potential             0.765674\n",
       "short_passing         0.458122\n",
       "ball_control          0.444183\n",
       "long_passing          0.434789\n",
       "vision                0.431137\n",
       "shot_power            0.427842\n",
       "penalties             0.392717\n",
       "long_shots            0.392660\n",
       "positioning           0.369469\n",
       "volleys               0.361470\n",
       "curve                 0.357772\n",
       "crossing              0.357655\n",
       "dribbling             0.354369\n",
       "free_kick_accuracy    0.349931\n",
       "finishing             0.330116\n",
       "stamina               0.326114\n",
       "aggression            0.323084\n",
       "strength              0.316421\n",
       "heading_accuracy      0.313541\n",
       "jumping               0.259023\n",
       "sprint_speed          0.253333\n",
       "interceptions         0.249475\n",
       "acceleration          0.244180\n",
       "agility               0.239896\n",
       "standing_tackle       0.164780\n",
       "balance               0.160364\n",
       "marking               0.132857\n",
       "sliding_tackle        0.128889\n",
       "gk_kicking            0.028156\n",
       "gk_diving             0.027215\n",
       "gk_positioning        0.007133\n",
       "gk_reflexes           0.007043\n",
       "gk_handling           0.005842\n",
       "player_fifa_api_id   -0.277268\n",
       "player_api_id        -0.326492\n",
       "Name: overall_rating, dtype: float64"
      ]
     },
     "execution_count": 52,
     "metadata": {},
     "output_type": "execute_result"
    }
   ],
   "source": [
    "data.corr()['overall_rating'].sort_values(ascending=False)"
   ]
  },
  {
   "cell_type": "code",
   "execution_count": 53,
   "id": "c28c6517",
   "metadata": {},
   "outputs": [],
   "source": [
    "\n",
    "data = data.select_dtypes(include= 'number')\n",
    "X =data.drop(['overall_rating', 'potential'], axis =1)\n",
    "y =data['overall_rating']"
   ]
  },
  {
   "cell_type": "markdown",
   "id": "9420902d",
   "metadata": {},
   "source": [
    "### Step 3.b: Divide into test and train\n",
    "- We do this to test the accuracy of our model\n",
    "- The idea is: We train on one dataset, then test on another to see how it performs\n",
    "- To split dataset use\n",
    "```Python\n",
    "X_train, X_test, y_train, y_test = train_test_split(X, y, random_state=42)\n",
    "```\n",
    "- The `random_state=42` is used for reproducability"
   ]
  },
  {
   "cell_type": "code",
   "execution_count": 54,
   "id": "d7158db3",
   "metadata": {},
   "outputs": [],
   "source": [
    "X_train, X_test, y_train, y_test = train_test_split(X, y, random_state=42)"
   ]
  },
  {
   "cell_type": "code",
   "execution_count": null,
   "id": "3ac91bc9",
   "metadata": {},
   "outputs": [],
   "source": []
  },
  {
   "cell_type": "markdown",
   "id": "908a00b9",
   "metadata": {},
   "source": [
    "### Step 3.c: Train the model\n",
    "- Create a Linear Regression instance and fit it.\n",
    "- HINT: Do this on train data (`X_train` and `y_train`)"
   ]
  },
  {
   "cell_type": "code",
   "execution_count": null,
   "id": "a0f489e6",
   "metadata": {},
   "outputs": [],
   "source": [
    "#import numpy as np"
   ]
  },
  {
   "cell_type": "code",
   "execution_count": 55,
   "id": "adf7850f",
   "metadata": {},
   "outputs": [
    {
     "data": {
      "text/plain": [
       "LinearRegression()"
      ]
     },
     "execution_count": 55,
     "metadata": {},
     "output_type": "execute_result"
    }
   ],
   "source": [
    "#data = data.replace([np.inf, -np.inf], np.nan, inplace=True)\n",
    "lin = LinearRegression()\n",
    "lin.fit(X_train , y_train)"
   ]
  },
  {
   "cell_type": "code",
   "execution_count": null,
   "id": "8ee1269c",
   "metadata": {},
   "outputs": [],
   "source": []
  },
  {
   "cell_type": "markdown",
   "id": "57dfea57",
   "metadata": {},
   "source": [
    "### Step 3.d: Predict on test data\n",
    "- Here we make predictions\n",
    "- HINT: Use your model to predict `.predict(X_test)` and assign the result to `y_pred`"
   ]
  },
  {
   "cell_type": "code",
   "execution_count": 56,
   "id": "1c5f6276",
   "metadata": {},
   "outputs": [],
   "source": [
    "y_pred = lin.predict(X_test)"
   ]
  },
  {
   "cell_type": "code",
   "execution_count": 57,
   "id": "dbe8be07",
   "metadata": {},
   "outputs": [
    {
     "data": {
      "text/plain": [
       "array([65.26107773, 70.21955092, 67.07162382, ..., 67.55733416,\n",
       "       75.05821   , 48.86030984])"
      ]
     },
     "execution_count": 57,
     "metadata": {},
     "output_type": "execute_result"
    }
   ],
   "source": [
    "y_pred"
   ]
  },
  {
   "cell_type": "markdown",
   "id": "72cd9a42",
   "metadata": {},
   "source": [
    "### Step 3.e: Evaluate the model\n",
    "- Apply r-squared on the predicted results and the real results\n",
    "- HINT: Use `r2_score` on `y_pred` and `y_test`"
   ]
  },
  {
   "cell_type": "code",
   "execution_count": 58,
   "id": "2062a606",
   "metadata": {},
   "outputs": [
    {
     "data": {
      "text/plain": [
       "0.7838867560302791"
      ]
     },
     "execution_count": 58,
     "metadata": {},
     "output_type": "execute_result"
    }
   ],
   "source": [
    "r2_score(y_test,y_pred)"
   ]
  },
  {
   "cell_type": "code",
   "execution_count": null,
   "id": "bdb70fcb",
   "metadata": {},
   "outputs": [],
   "source": []
  },
  {
   "cell_type": "markdown",
   "id": "98a71ee2",
   "metadata": {},
   "source": [
    "## Step 4: Report\n",
    "- Present findings\n",
    "- Visualize results\n",
    "- Credibility counts"
   ]
  },
  {
   "cell_type": "markdown",
   "id": "2c842708",
   "metadata": {},
   "source": [
    "### Step 4.a: Present finding\n",
    "- This is more a practice of creating a model\n",
    "- But feel free to be creative\n",
    "- An option could be to investigate the best indicator of a player"
   ]
  },
  {
   "cell_type": "code",
   "execution_count": null,
   "id": "b8f72fe9",
   "metadata": {},
   "outputs": [],
   "source": []
  },
  {
   "cell_type": "code",
   "execution_count": null,
   "id": "dc2661b4",
   "metadata": {},
   "outputs": [],
   "source": []
  },
  {
   "cell_type": "markdown",
   "id": "65c865f1",
   "metadata": {},
   "source": [
    "## Step 5: Actions\n",
    "- Use insights\n",
    "- Measure impact\n",
    "- Main goal"
   ]
  },
  {
   "cell_type": "code",
   "execution_count": null,
   "id": "9e491a16",
   "metadata": {},
   "outputs": [],
   "source": []
  },
  {
   "cell_type": "code",
   "execution_count": null,
   "id": "2f67725e",
   "metadata": {},
   "outputs": [],
   "source": []
  }
 ],
 "metadata": {
  "kernelspec": {
   "display_name": "Python 3 (ipykernel)",
   "language": "python",
   "name": "python3"
  },
  "language_info": {
   "codemirror_mode": {
    "name": "ipython",
    "version": 3
   },
   "file_extension": ".py",
   "mimetype": "text/x-python",
   "name": "python",
   "nbconvert_exporter": "python",
   "pygments_lexer": "ipython3",
   "version": "3.8.10"
  }
 },
 "nbformat": 4,
 "nbformat_minor": 5
}
